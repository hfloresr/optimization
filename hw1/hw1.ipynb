{
 "cells": [
  {
   "cell_type": "markdown",
   "metadata": {},
   "source": [
    "## Problem 1 - 1D unconstrained optimization"
   ]
  },
  {
   "cell_type": "markdown",
   "metadata": {},
   "source": [
    "### (a). Write a functioning one-dimensional black box unconstrained function optimizer."
   ]
  },
  {
   "cell_type": "code",
   "execution_count": 1,
   "metadata": {
    "collapsed": true
   },
   "outputs": [],
   "source": [
    "%matplotlib inline"
   ]
  },
  {
   "cell_type": "code",
   "execution_count": 2,
   "metadata": {
    "collapsed": true
   },
   "outputs": [],
   "source": [
    "import timeit\n",
    "import numpy as np\n",
    "import pandas as pd\n",
    "import matplotlib\n",
    "matplotlib.rcParams['text.usetex'] = True\n",
    "matplotlib.rcParams['text.latex.unicode'] = True\n",
    "import matplotlib.pyplot as plt\n",
    "import seaborn as sns"
   ]
  },
  {
   "cell_type": "markdown",
   "metadata": {},
   "source": [
    "Here we will use the Fibonacci method for optimization. Our function will return a couple of useful values:\n",
    "* $x^*$\n",
    "* $f(x^*)$\n",
    "* number of function calls for $f(x)$"
   ]
  },
  {
   "cell_type": "code",
   "execution_count": 3,
   "metadata": {
    "collapsed": true
   },
   "outputs": [],
   "source": [
    "def fib_min(f, x_1, x_4, n):\n",
    "    I_0 = np.abs(x_4 - x_1)  # Initial interval of uncertainty\n",
    "    c = (np.sqrt(5) - 1) / 2\n",
    "    s = (1 - np.sqrt(5)) / (1 + np.sqrt(5))\n",
    "    alpha = (c*(1 - s**n)) / (1 - s**(n+1))\n",
    "    x_3 = alpha*x_4 + (1 - alpha)*x_1\n",
    "    f_3 = f(x_3)\n",
    "    \n",
    "    for i in range(1, n+1):\n",
    "        x_2 = 0.01*x_1 + 0.99*x_3 if i == n else alpha*x_1 + (1 - alpha)*x_4\n",
    "        \n",
    "        f_2 = f(x_2)\n",
    "        if f_2 < f_3:\n",
    "            x_4 = x_3\n",
    "            x_3 = x_2\n",
    "            f_3 = f_2\n",
    "        else:\n",
    "            x_1 = x_4\n",
    "            x_4 = x_2\n",
    "        alpha = (c*(1 - s**(n-i))) / (1 - s**(n-i+1))\n",
    "        \n",
    "    x_star = np.median([x_1, x_2, x_3, x_4])\n",
    "    f_star = f(x_star)\n",
    "    ncalls = f.called()\n",
    "    f.reset()\n",
    "    return(x_star, f_star, ncalls)"
   ]
  },
  {
   "cell_type": "markdown",
   "metadata": {},
   "source": [
    "### (b). Test code of part (a). on two different 1D unconstrained optimization problems, with optimization starting points drawn from a probability distribution."
   ]
  },
  {
   "cell_type": "markdown",
   "metadata": {},
   "source": [
    "First, let's create a little helper function to keep track of the number of function calls"
   ]
  },
  {
   "cell_type": "code",
   "execution_count": 4,
   "metadata": {
    "collapsed": true
   },
   "outputs": [],
   "source": [
    "# Helper function to count function calls\n",
    "def count(f):\n",
    "    def call(*args,**kargs):\n",
    "        call.calls += 1\n",
    "        return f(*args,**kargs)\n",
    "\n",
    "    call.calls = 0\n",
    "    def reset(): call.calls = 0 \n",
    "    call.reset = reset\n",
    "    call.called = lambda : call.calls\n",
    "    return call"
   ]
  },
  {
   "cell_type": "markdown",
   "metadata": {},
   "source": [
    "Let's make up some functions, $f(x)$, to optimize:\n",
    "* $f_{1}(x) = x^2 + 2x \\:$  (quadratic)\n",
    "* $f_{2}(x) = x^3 - 13x^2 + 36 \\:$  (non-quadratic)\n",
    "\n",
    "Let's also plot the functions to have a general sense of the interval to use for our optimizer"
   ]
  },
  {
   "cell_type": "code",
   "execution_count": 5,
   "metadata": {
    "collapsed": true
   },
   "outputs": [],
   "source": [
    "@count\n",
    "def f_1(x):\n",
    "    return x**2 + 2*x\n",
    "\n",
    "@count\n",
    "def f_2(x):\n",
    "    return x**3 - 3*x**2 + 36"
   ]
  },
  {
   "cell_type": "code",
   "execution_count": 6,
   "metadata": {},
   "outputs": [
    {
     "data": {
      "image/png": "[encoded data removed]",
      "text/plain": [
       "<matplotlib.figure.Figure at 0x7fd03a652160>"
      ]
     },
     "metadata": {},
     "output_type": "display_data"
    }
   ],
   "source": [
    "fig, (ax1, ax2) = plt.subplots(1, 2, figsize=(12, 5))\n",
    "x1 = np.arange(-20, 20, 0.5)\n",
    "x2 = np.arange(-8, 20, 0.5)\n",
    "\n",
    "ax1.plot(x1, f_1(x1))\n",
    "ax1.set_title(r\"$f_{1}(x) = x^2 + 2x$\", size=20)\n",
    "ax1.spines['right'].set_visible(False)\n",
    "ax1.spines['top'].set_visible(False)\n",
    "\n",
    "ax2.plot(x2, f_2(x2))\n",
    "ax2.set_title(r'$f_{2}(x) = x^3 - 13x^2 + 36$', size=20)\n",
    "ax2.spines['right'].set_visible(False)\n",
    "ax2.spines['top'].set_visible(False)\n",
    "\n",
    "plt.subplots_adjust(wspace=10)\n",
    "plt.tight_layout()\n",
    "#plt.savefig('/home/hflores/uci/fall2017/optimization/hw1/functions.eps', format='eps', dpi=1000)"
   ]
  },
  {
   "cell_type": "markdown",
   "metadata": {},
   "source": [
    "We now need to determine the starting points for our optimizer and determine the number of iterations or stopping conditions. For simplicity, let us obtain $x^*$ such that $f(x^*)$ is within $1\\%$ of the true optimum.\n",
    "\n",
    "$$\\begin{aligned}\n",
    "\\frac{I_n}{2I_0} &\\leq \\frac{1}{100}\\\\\n",
    "\\frac{I_n}{I_0}  &\\leq \\frac{1}{50}\\\\\n",
    "\\frac{1}{F_n}    &\\leq \\frac{1}{50}\\\\\n",
    "F_n              &\\geq 50\n",
    "\\end{aligned}$$\n",
    "\n",
    "Let us now obtain $n$ from the fibonacci sequence using Binet's formula"
   ]
  },
  {
   "cell_type": "code",
   "execution_count": 7,
   "metadata": {},
   "outputs": [
    {
     "name": "stdout",
     "output_type": "stream",
     "text": [
      "n = 10\n",
      "fib_n = 55.000000000000014\n"
     ]
    }
   ],
   "source": [
    "def fib(n):\n",
    "    return (((1 + np.sqrt(5)) / 2)**n - ((1 - np.sqrt(5)) / 2)**n) / np.sqrt(5)\n",
    "\n",
    "for n in range(2, 100):\n",
    "    fib_n = fib(n)\n",
    "    if fib_n >= 50:\n",
    "        print('n = {}\\nfib_n = {}'.format(n, fib_n))\n",
    "        break"
   ]
  },
  {
   "cell_type": "markdown",
   "metadata": {},
   "source": [
    "Let us now create some random samples for our starting points. We'll draw from uniform distribution and sample from the interval $[-100, 100)$"
   ]
  },
  {
   "cell_type": "code",
   "execution_count": 8,
   "metadata": {},
   "outputs": [],
   "source": [
    "# Set random seed\n",
    "np.random.seed(13)\n",
    "\n",
    "# Create samples\n",
    "f1_samples = np.random.normal(loc=-1, scale=1, size=(20, 2))\n",
    "f2_samples = np.random.normal(loc=8, scale=1, size=(20, 2))"
   ]
  },
  {
   "cell_type": "code",
   "execution_count": 9,
   "metadata": {
    "collapsed": true
   },
   "outputs": [],
   "source": [
    "# Override template to get return value of our function\n",
    "timeit.template = \"\"\"\n",
    "def inner(_it, _timer{init}):\n",
    "    {setup}\n",
    "    _t0 = _timer()\n",
    "    for _i in _it:\n",
    "        retval = {stmt}\n",
    "    _t1 = _timer()\n",
    "    return _t1 - _t0, retval\n",
    "\"\"\""
   ]
  },
  {
   "cell_type": "markdown",
   "metadata": {},
   "source": [
    "We are all setup for running our simulation. Let us gather the results for $f_1$ and $f_2$. Finally we wan't to gather some basic statistics (i.e. mean, std. dev) and plot our results"
   ]
  },
  {
   "cell_type": "code",
   "execution_count": 10,
   "metadata": {
    "collapsed": true
   },
   "outputs": [],
   "source": [
    "n = 10\n",
    "f1_setup = 'from __main__ import fib_min, f_1, s, n'\n",
    "f1_test = 'fib_min(f_1, s[0], s[1], n)'\n",
    "f1_results = []\n",
    "\n",
    "for s in f1_samples:\n",
    "    f1_results.append(timeit.timeit(stmt=f1_test, setup=f1_setup, number=1))"
   ]
  },
  {
   "cell_type": "code",
   "execution_count": 11,
   "metadata": {
    "collapsed": true
   },
   "outputs": [],
   "source": [
    "n = 10\n",
    "f2_setup = 'from __main__ import fib_min, f_2, s, n'\n",
    "f2_test = 'fib_min(f_2, s[0], s[1], n)'\n",
    "f2_results = []\n",
    "\n",
    "for s in f2_samples:\n",
    "    f2_results.append(timeit.timeit(stmt=f2_test, setup=f2_setup, number=1))"
   ]
  },
  {
   "cell_type": "code",
   "execution_count": 12,
   "metadata": {},
   "outputs": [],
   "source": [
    "# Create matrix of results for easier computation\n",
    "f1_mat = np.array([list([e[1][0], e[1][1], e[1][2], e[0]]) for e in f1_results])\n",
    "f2_mat = np.array([list([e[1][0], e[1][1], e[1][2], e[0]]) for e in f2_results])"
   ]
  },
  {
   "cell_type": "code",
   "execution_count": 13,
   "metadata": {},
   "outputs": [],
   "source": [
    "f1_df = pd.DataFrame(f1_mat)\n",
    "f2_df = pd.DataFrame(f2_mat)\n",
    "\n",
    "f1_df.columns = f2_df.columns = ['x*', 'f(x*)', 'function_calls', 'clock_time']"
   ]
  },
  {
   "cell_type": "code",
   "execution_count": 14,
   "metadata": {
    "scrolled": false
   },
   "outputs": [
    {
     "data": {
      "text/html": [
       "<div>\n",
       "<style>\n",
       "    .dataframe thead tr:only-child th {\n",
       "        text-align: right;\n",
       "    }\n",
       "\n",
       "    .dataframe thead th {\n",
       "        text-align: left;\n",
       "    }\n",
       "\n",
       "    .dataframe tbody tr th {\n",
       "        vertical-align: top;\n",
       "    }\n",
       "</style>\n",
       "<table border=\"1\" class=\"dataframe\">\n",
       "  <thead>\n",
       "    <tr style=\"text-align: right;\">\n",
       "      <th></th>\n",
       "      <th>x*</th>\n",
       "      <th>f(x*)</th>\n",
       "      <th>function_calls</th>\n",
       "      <th>clock_time</th>\n",
       "    </tr>\n",
       "  </thead>\n",
       "  <tbody>\n",
       "    <tr>\n",
       "      <th>0</th>\n",
       "      <td>-1.003858</td>\n",
       "      <td>-0.999985</td>\n",
       "      <td>13.0</td>\n",
       "      <td>0.000658</td>\n",
       "    </tr>\n",
       "    <tr>\n",
       "      <th>1</th>\n",
       "      <td>-0.999863</td>\n",
       "      <td>-1.000000</td>\n",
       "      <td>12.0</td>\n",
       "      <td>0.000193</td>\n",
       "    </tr>\n",
       "    <tr>\n",
       "      <th>2</th>\n",
       "      <td>-0.458484</td>\n",
       "      <td>-0.706761</td>\n",
       "      <td>12.0</td>\n",
       "      <td>0.000178</td>\n",
       "    </tr>\n",
       "    <tr>\n",
       "      <th>3</th>\n",
       "      <td>-0.133349</td>\n",
       "      <td>-0.248917</td>\n",
       "      <td>12.0</td>\n",
       "      <td>0.000170</td>\n",
       "    </tr>\n",
       "    <tr>\n",
       "      <th>4</th>\n",
       "      <td>-0.995906</td>\n",
       "      <td>-0.999983</td>\n",
       "      <td>12.0</td>\n",
       "      <td>0.000168</td>\n",
       "    </tr>\n",
       "    <tr>\n",
       "      <th>5</th>\n",
       "      <td>-1.794326</td>\n",
       "      <td>-0.369046</td>\n",
       "      <td>12.0</td>\n",
       "      <td>0.000261</td>\n",
       "    </tr>\n",
       "    <tr>\n",
       "      <th>6</th>\n",
       "      <td>-0.998712</td>\n",
       "      <td>-0.999998</td>\n",
       "      <td>12.0</td>\n",
       "      <td>0.000162</td>\n",
       "    </tr>\n",
       "    <tr>\n",
       "      <th>7</th>\n",
       "      <td>-0.675915</td>\n",
       "      <td>-0.894969</td>\n",
       "      <td>12.0</td>\n",
       "      <td>0.000158</td>\n",
       "    </tr>\n",
       "    <tr>\n",
       "      <th>8</th>\n",
       "      <td>-0.849852</td>\n",
       "      <td>-0.977456</td>\n",
       "      <td>12.0</td>\n",
       "      <td>0.000162</td>\n",
       "    </tr>\n",
       "    <tr>\n",
       "      <th>9</th>\n",
       "      <td>-0.998391</td>\n",
       "      <td>-0.999997</td>\n",
       "      <td>12.0</td>\n",
       "      <td>0.000157</td>\n",
       "    </tr>\n",
       "    <tr>\n",
       "      <th>10</th>\n",
       "      <td>-1.006449</td>\n",
       "      <td>-0.999958</td>\n",
       "      <td>12.0</td>\n",
       "      <td>0.000155</td>\n",
       "    </tr>\n",
       "    <tr>\n",
       "      <th>11</th>\n",
       "      <td>-1.009986</td>\n",
       "      <td>-0.999900</td>\n",
       "      <td>12.0</td>\n",
       "      <td>0.000286</td>\n",
       "    </tr>\n",
       "    <tr>\n",
       "      <th>12</th>\n",
       "      <td>-0.998913</td>\n",
       "      <td>-0.999999</td>\n",
       "      <td>12.0</td>\n",
       "      <td>0.000158</td>\n",
       "    </tr>\n",
       "    <tr>\n",
       "      <th>13</th>\n",
       "      <td>-1.293503</td>\n",
       "      <td>-0.913856</td>\n",
       "      <td>12.0</td>\n",
       "      <td>0.000154</td>\n",
       "    </tr>\n",
       "    <tr>\n",
       "      <th>14</th>\n",
       "      <td>-0.989732</td>\n",
       "      <td>-0.999895</td>\n",
       "      <td>12.0</td>\n",
       "      <td>0.000153</td>\n",
       "    </tr>\n",
       "    <tr>\n",
       "      <th>15</th>\n",
       "      <td>-0.493534</td>\n",
       "      <td>-0.743493</td>\n",
       "      <td>12.0</td>\n",
       "      <td>0.000331</td>\n",
       "    </tr>\n",
       "    <tr>\n",
       "      <th>16</th>\n",
       "      <td>-1.455641</td>\n",
       "      <td>-0.792392</td>\n",
       "      <td>12.0</td>\n",
       "      <td>0.000476</td>\n",
       "    </tr>\n",
       "    <tr>\n",
       "      <th>17</th>\n",
       "      <td>-0.779196</td>\n",
       "      <td>-0.951246</td>\n",
       "      <td>12.0</td>\n",
       "      <td>0.000383</td>\n",
       "    </tr>\n",
       "    <tr>\n",
       "      <th>18</th>\n",
       "      <td>-1.010637</td>\n",
       "      <td>-0.999887</td>\n",
       "      <td>12.0</td>\n",
       "      <td>0.000274</td>\n",
       "    </tr>\n",
       "    <tr>\n",
       "      <th>19</th>\n",
       "      <td>-0.995907</td>\n",
       "      <td>-0.999983</td>\n",
       "      <td>12.0</td>\n",
       "      <td>0.000324</td>\n",
       "    </tr>\n",
       "  </tbody>\n",
       "</table>\n",
       "</div>"
      ],
      "text/plain": [
       "          x*     f(x*)  function_calls  clock_time\n",
       "0  -1.003858 -0.999985            13.0    0.000658\n",
       "1  -0.999863 -1.000000            12.0    0.000193\n",
       "2  -0.458484 -0.706761            12.0    0.000178\n",
       "3  -0.133349 -0.248917            12.0    0.000170\n",
       "4  -0.995906 -0.999983            12.0    0.000168\n",
       "5  -1.794326 -0.369046            12.0    0.000261\n",
       "6  -0.998712 -0.999998            12.0    0.000162\n",
       "7  -0.675915 -0.894969            12.0    0.000158\n",
       "8  -0.849852 -0.977456            12.0    0.000162\n",
       "9  -0.998391 -0.999997            12.0    0.000157\n",
       "10 -1.006449 -0.999958            12.0    0.000155\n",
       "11 -1.009986 -0.999900            12.0    0.000286\n",
       "12 -0.998913 -0.999999            12.0    0.000158\n",
       "13 -1.293503 -0.913856            12.0    0.000154\n",
       "14 -0.989732 -0.999895            12.0    0.000153\n",
       "15 -0.493534 -0.743493            12.0    0.000331\n",
       "16 -1.455641 -0.792392            12.0    0.000476\n",
       "17 -0.779196 -0.951246            12.0    0.000383\n",
       "18 -1.010637 -0.999887            12.0    0.000274\n",
       "19 -0.995907 -0.999983            12.0    0.000324"
      ]
     },
     "execution_count": 14,
     "metadata": {},
     "output_type": "execute_result"
    }
   ],
   "source": [
    "f1_df"
   ]
  },
  {
   "cell_type": "code",
   "execution_count": 15,
   "metadata": {},
   "outputs": [
    {
     "data": {
      "text/plain": [
       "count    20.000000\n",
       "mean     -0.947108\n",
       "std       0.351413\n",
       "min      -1.794326\n",
       "25%      -1.007333\n",
       "50%      -0.998551\n",
       "75%      -0.832188\n",
       "max      -0.133349\n",
       "Name: x*, dtype: float64"
      ]
     },
     "execution_count": 15,
     "metadata": {},
     "output_type": "execute_result"
    }
   ],
   "source": [
    "f1_df['x*'].describe()"
   ]
  },
  {
   "cell_type": "code",
   "execution_count": 16,
   "metadata": {},
   "outputs": [
    {
     "data": {
      "text/plain": [
       "count    20.000000\n",
       "mean     -0.879886\n",
       "std       0.216419\n",
       "min      -1.000000\n",
       "25%      -0.999984\n",
       "50%      -0.999891\n",
       "75%      -0.869324\n",
       "max      -0.248917\n",
       "Name: f(x*), dtype: float64"
      ]
     },
     "execution_count": 16,
     "metadata": {},
     "output_type": "execute_result"
    }
   ],
   "source": [
    "f1_df['f(x*)'].describe()"
   ]
  },
  {
   "cell_type": "code",
   "execution_count": 17,
   "metadata": {},
   "outputs": [
    {
     "data": {
      "text/plain": [
       "count    20.000000\n",
       "mean     12.050000\n",
       "std       0.223607\n",
       "min      12.000000\n",
       "25%      12.000000\n",
       "50%      12.000000\n",
       "75%      12.000000\n",
       "max      13.000000\n",
       "Name: function_calls, dtype: float64"
      ]
     },
     "execution_count": 17,
     "metadata": {},
     "output_type": "execute_result"
    }
   ],
   "source": [
    "f1_df['function_calls'].describe()"
   ]
  },
  {
   "cell_type": "code",
   "execution_count": 18,
   "metadata": {},
   "outputs": [
    {
     "data": {
      "text/plain": [
       "count    20.000000\n",
       "mean      0.000248\n",
       "std       0.000134\n",
       "min       0.000153\n",
       "25%       0.000158\n",
       "50%       0.000174\n",
       "75%       0.000295\n",
       "max       0.000658\n",
       "Name: clock_time, dtype: float64"
      ]
     },
     "execution_count": 18,
     "metadata": {},
     "output_type": "execute_result"
    }
   ],
   "source": [
    "f1_df['clock_time'].describe()"
   ]
  },
  {
   "cell_type": "code",
   "execution_count": 19,
   "metadata": {},
   "outputs": [
    {
     "name": "stdout",
     "output_type": "stream",
     "text": [
      "\\begin{tabular}{lrrrr}\n",
      "\\toprule\n",
      "{} &        x* &     f(x*) &  function\\_calls &  clock\\_time \\\\\n",
      "\\midrule\n",
      "0  & -1.003858 & -0.999985 &            13.0 &    0.000658 \\\\\n",
      "1  & -0.999863 & -1.000000 &            12.0 &    0.000193 \\\\\n",
      "2  & -0.458484 & -0.706761 &            12.0 &    0.000178 \\\\\n",
      "3  & -0.133349 & -0.248917 &            12.0 &    0.000170 \\\\\n",
      "4  & -0.995906 & -0.999983 &            12.0 &    0.000168 \\\\\n",
      "5  & -1.794326 & -0.369046 &            12.0 &    0.000261 \\\\\n",
      "6  & -0.998712 & -0.999998 &            12.0 &    0.000162 \\\\\n",
      "7  & -0.675915 & -0.894969 &            12.0 &    0.000158 \\\\\n",
      "8  & -0.849852 & -0.977456 &            12.0 &    0.000162 \\\\\n",
      "9  & -0.998391 & -0.999997 &            12.0 &    0.000157 \\\\\n",
      "10 & -1.006449 & -0.999958 &            12.0 &    0.000155 \\\\\n",
      "11 & -1.009986 & -0.999900 &            12.0 &    0.000286 \\\\\n",
      "12 & -0.998913 & -0.999999 &            12.0 &    0.000158 \\\\\n",
      "13 & -1.293503 & -0.913856 &            12.0 &    0.000154 \\\\\n",
      "14 & -0.989732 & -0.999895 &            12.0 &    0.000153 \\\\\n",
      "15 & -0.493534 & -0.743493 &            12.0 &    0.000331 \\\\\n",
      "16 & -1.455641 & -0.792392 &            12.0 &    0.000476 \\\\\n",
      "17 & -0.779196 & -0.951246 &            12.0 &    0.000383 \\\\\n",
      "18 & -1.010637 & -0.999887 &            12.0 &    0.000274 \\\\\n",
      "19 & -0.995907 & -0.999983 &            12.0 &    0.000324 \\\\\n",
      "\\bottomrule\n",
      "\\end{tabular}\n",
      "\n"
     ]
    }
   ],
   "source": [
    "print(f1_df.to_latex())"
   ]
  },
  {
   "cell_type": "code",
   "execution_count": 20,
   "metadata": {},
   "outputs": [
    {
     "data": {
      "text/html": [
       "<div>\n",
       "<style>\n",
       "    .dataframe thead tr:only-child th {\n",
       "        text-align: right;\n",
       "    }\n",
       "\n",
       "    .dataframe thead th {\n",
       "        text-align: left;\n",
       "    }\n",
       "\n",
       "    .dataframe tbody tr th {\n",
       "        vertical-align: top;\n",
       "    }\n",
       "</style>\n",
       "<table border=\"1\" class=\"dataframe\">\n",
       "  <thead>\n",
       "    <tr style=\"text-align: right;\">\n",
       "      <th></th>\n",
       "      <th>x*</th>\n",
       "      <th>f(x*)</th>\n",
       "      <th>function_calls</th>\n",
       "      <th>clock_time</th>\n",
       "    </tr>\n",
       "  </thead>\n",
       "  <tbody>\n",
       "    <tr>\n",
       "      <th>0</th>\n",
       "      <td>7.699171</td>\n",
       "      <td>314.553840</td>\n",
       "      <td>13.0</td>\n",
       "      <td>0.000351</td>\n",
       "    </tr>\n",
       "    <tr>\n",
       "      <th>1</th>\n",
       "      <td>7.630426</td>\n",
       "      <td>305.599131</td>\n",
       "      <td>12.0</td>\n",
       "      <td>0.000205</td>\n",
       "    </tr>\n",
       "    <tr>\n",
       "      <th>2</th>\n",
       "      <td>7.940157</td>\n",
       "      <td>347.457533</td>\n",
       "      <td>12.0</td>\n",
       "      <td>0.000125</td>\n",
       "    </tr>\n",
       "    <tr>\n",
       "      <th>3</th>\n",
       "      <td>7.030768</td>\n",
       "      <td>235.247719</td>\n",
       "      <td>12.0</td>\n",
       "      <td>0.000120</td>\n",
       "    </tr>\n",
       "    <tr>\n",
       "      <th>4</th>\n",
       "      <td>7.778227</td>\n",
       "      <td>325.086647</td>\n",
       "      <td>12.0</td>\n",
       "      <td>0.000154</td>\n",
       "    </tr>\n",
       "    <tr>\n",
       "      <th>5</th>\n",
       "      <td>7.676198</td>\n",
       "      <td>311.540361</td>\n",
       "      <td>12.0</td>\n",
       "      <td>0.000496</td>\n",
       "    </tr>\n",
       "    <tr>\n",
       "      <th>6</th>\n",
       "      <td>7.471320</td>\n",
       "      <td>285.591838</td>\n",
       "      <td>12.0</td>\n",
       "      <td>0.000199</td>\n",
       "    </tr>\n",
       "    <tr>\n",
       "      <th>7</th>\n",
       "      <td>9.357814</td>\n",
       "      <td>592.745461</td>\n",
       "      <td>12.0</td>\n",
       "      <td>0.000191</td>\n",
       "    </tr>\n",
       "    <tr>\n",
       "      <th>8</th>\n",
       "      <td>7.949493</td>\n",
       "      <td>348.780494</td>\n",
       "      <td>12.0</td>\n",
       "      <td>0.000192</td>\n",
       "    </tr>\n",
       "    <tr>\n",
       "      <th>9</th>\n",
       "      <td>7.497876</td>\n",
       "      <td>288.862239</td>\n",
       "      <td>12.0</td>\n",
       "      <td>0.000185</td>\n",
       "    </tr>\n",
       "    <tr>\n",
       "      <th>10</th>\n",
       "      <td>7.477308</td>\n",
       "      <td>286.326859</td>\n",
       "      <td>12.0</td>\n",
       "      <td>0.000276</td>\n",
       "    </tr>\n",
       "    <tr>\n",
       "      <th>11</th>\n",
       "      <td>6.089015</td>\n",
       "      <td>150.528652</td>\n",
       "      <td>12.0</td>\n",
       "      <td>0.000192</td>\n",
       "    </tr>\n",
       "    <tr>\n",
       "      <th>12</th>\n",
       "      <td>8.458776</td>\n",
       "      <td>426.580208</td>\n",
       "      <td>12.0</td>\n",
       "      <td>0.000185</td>\n",
       "    </tr>\n",
       "    <tr>\n",
       "      <th>13</th>\n",
       "      <td>7.625984</td>\n",
       "      <td>305.026966</td>\n",
       "      <td>12.0</td>\n",
       "      <td>0.000192</td>\n",
       "    </tr>\n",
       "    <tr>\n",
       "      <th>14</th>\n",
       "      <td>8.655849</td>\n",
       "      <td>459.757240</td>\n",
       "      <td>12.0</td>\n",
       "      <td>0.000180</td>\n",
       "    </tr>\n",
       "    <tr>\n",
       "      <th>15</th>\n",
       "      <td>7.073400</td>\n",
       "      <td>239.804382</td>\n",
       "      <td>12.0</td>\n",
       "      <td>0.000426</td>\n",
       "    </tr>\n",
       "    <tr>\n",
       "      <th>16</th>\n",
       "      <td>7.573978</td>\n",
       "      <td>298.386878</td>\n",
       "      <td>12.0</td>\n",
       "      <td>0.000186</td>\n",
       "    </tr>\n",
       "    <tr>\n",
       "      <th>17</th>\n",
       "      <td>7.160760</td>\n",
       "      <td>249.349189</td>\n",
       "      <td>12.0</td>\n",
       "      <td>0.000186</td>\n",
       "    </tr>\n",
       "    <tr>\n",
       "      <th>18</th>\n",
       "      <td>7.293491</td>\n",
       "      <td>264.392311</td>\n",
       "      <td>12.0</td>\n",
       "      <td>0.000180</td>\n",
       "    </tr>\n",
       "    <tr>\n",
       "      <th>19</th>\n",
       "      <td>7.571402</td>\n",
       "      <td>298.060772</td>\n",
       "      <td>12.0</td>\n",
       "      <td>0.000184</td>\n",
       "    </tr>\n",
       "  </tbody>\n",
       "</table>\n",
       "</div>"
      ],
      "text/plain": [
       "          x*       f(x*)  function_calls  clock_time\n",
       "0   7.699171  314.553840            13.0    0.000351\n",
       "1   7.630426  305.599131            12.0    0.000205\n",
       "2   7.940157  347.457533            12.0    0.000125\n",
       "3   7.030768  235.247719            12.0    0.000120\n",
       "4   7.778227  325.086647            12.0    0.000154\n",
       "5   7.676198  311.540361            12.0    0.000496\n",
       "6   7.471320  285.591838            12.0    0.000199\n",
       "7   9.357814  592.745461            12.0    0.000191\n",
       "8   7.949493  348.780494            12.0    0.000192\n",
       "9   7.497876  288.862239            12.0    0.000185\n",
       "10  7.477308  286.326859            12.0    0.000276\n",
       "11  6.089015  150.528652            12.0    0.000192\n",
       "12  8.458776  426.580208            12.0    0.000185\n",
       "13  7.625984  305.026966            12.0    0.000192\n",
       "14  8.655849  459.757240            12.0    0.000180\n",
       "15  7.073400  239.804382            12.0    0.000426\n",
       "16  7.573978  298.386878            12.0    0.000186\n",
       "17  7.160760  249.349189            12.0    0.000186\n",
       "18  7.293491  264.392311            12.0    0.000180\n",
       "19  7.571402  298.060772            12.0    0.000184"
      ]
     },
     "execution_count": 20,
     "metadata": {},
     "output_type": "execute_result"
    }
   ],
   "source": [
    "f2_df"
   ]
  },
  {
   "cell_type": "code",
   "execution_count": 21,
   "metadata": {},
   "outputs": [
    {
     "data": {
      "text/plain": [
       "count    20.000000\n",
       "mean      7.650571\n",
       "std       0.664623\n",
       "min       6.089015\n",
       "25%       7.426863\n",
       "50%       7.599981\n",
       "75%       7.818709\n",
       "max       9.357814\n",
       "Name: x*, dtype: float64"
      ]
     },
     "execution_count": 21,
     "metadata": {},
     "output_type": "execute_result"
    }
   ],
   "source": [
    "f2_df['x*'].describe()"
   ]
  },
  {
   "cell_type": "code",
   "execution_count": 22,
   "metadata": {},
   "outputs": [
    {
     "data": {
      "text/plain": [
       "count     20.000000\n",
       "mean     316.683936\n",
       "std       92.297258\n",
       "min      150.528652\n",
       "25%      280.291956\n",
       "50%      301.706922\n",
       "75%      330.679369\n",
       "max      592.745461\n",
       "Name: f(x*), dtype: float64"
      ]
     },
     "execution_count": 22,
     "metadata": {},
     "output_type": "execute_result"
    }
   ],
   "source": [
    "f2_df['f(x*)'].describe()"
   ]
  },
  {
   "cell_type": "code",
   "execution_count": 23,
   "metadata": {},
   "outputs": [
    {
     "data": {
      "text/plain": [
       "count    20.000000\n",
       "mean     12.050000\n",
       "std       0.223607\n",
       "min      12.000000\n",
       "25%      12.000000\n",
       "50%      12.000000\n",
       "75%      12.000000\n",
       "max      13.000000\n",
       "Name: function_calls, dtype: float64"
      ]
     },
     "execution_count": 23,
     "metadata": {},
     "output_type": "execute_result"
    }
   ],
   "source": [
    "f2_df['function_calls'].describe()"
   ]
  },
  {
   "cell_type": "code",
   "execution_count": 24,
   "metadata": {},
   "outputs": [
    {
     "data": {
      "text/plain": [
       "count    20.000000\n",
       "mean      0.000220\n",
       "std       0.000096\n",
       "min       0.000120\n",
       "25%       0.000183\n",
       "50%       0.000189\n",
       "75%       0.000201\n",
       "max       0.000496\n",
       "Name: clock_time, dtype: float64"
      ]
     },
     "execution_count": 24,
     "metadata": {},
     "output_type": "execute_result"
    }
   ],
   "source": [
    "f2_df['clock_time'].describe()"
   ]
  },
  {
   "cell_type": "code",
   "execution_count": 25,
   "metadata": {},
   "outputs": [
    {
     "name": "stdout",
     "output_type": "stream",
     "text": [
      "\\begin{tabular}{lrrrr}\n",
      "\\toprule\n",
      "{} &        x* &       f(x*) &  function\\_calls &  clock\\_time \\\\\n",
      "\\midrule\n",
      "0  &  7.699171 &  314.553840 &            13.0 &    0.000351 \\\\\n",
      "1  &  7.630426 &  305.599131 &            12.0 &    0.000205 \\\\\n",
      "2  &  7.940157 &  347.457533 &            12.0 &    0.000125 \\\\\n",
      "3  &  7.030768 &  235.247719 &            12.0 &    0.000120 \\\\\n",
      "4  &  7.778227 &  325.086647 &            12.0 &    0.000154 \\\\\n",
      "5  &  7.676198 &  311.540361 &            12.0 &    0.000496 \\\\\n",
      "6  &  7.471320 &  285.591838 &            12.0 &    0.000199 \\\\\n",
      "7  &  9.357814 &  592.745461 &            12.0 &    0.000191 \\\\\n",
      "8  &  7.949493 &  348.780494 &            12.0 &    0.000192 \\\\\n",
      "9  &  7.497876 &  288.862239 &            12.0 &    0.000185 \\\\\n",
      "10 &  7.477308 &  286.326859 &            12.0 &    0.000276 \\\\\n",
      "11 &  6.089015 &  150.528652 &            12.0 &    0.000192 \\\\\n",
      "12 &  8.458776 &  426.580208 &            12.0 &    0.000185 \\\\\n",
      "13 &  7.625984 &  305.026966 &            12.0 &    0.000192 \\\\\n",
      "14 &  8.655849 &  459.757240 &            12.0 &    0.000180 \\\\\n",
      "15 &  7.073400 &  239.804382 &            12.0 &    0.000426 \\\\\n",
      "16 &  7.573978 &  298.386878 &            12.0 &    0.000186 \\\\\n",
      "17 &  7.160760 &  249.349189 &            12.0 &    0.000186 \\\\\n",
      "18 &  7.293491 &  264.392311 &            12.0 &    0.000180 \\\\\n",
      "19 &  7.571402 &  298.060772 &            12.0 &    0.000184 \\\\\n",
      "\\bottomrule\n",
      "\\end{tabular}\n",
      "\n"
     ]
    }
   ],
   "source": [
    "print(f2_df.to_latex())"
   ]
  },
  {
   "cell_type": "code",
   "execution_count": null,
   "metadata": {
    "collapsed": true
   },
   "outputs": [],
   "source": []
  }
 ],
 "metadata": {
  "kernelspec": {
   "display_name": "Python 3",
   "language": "python",
   "name": "python3"
  },
  "language_info": {
   "codemirror_mode": {
    "name": "ipython",
    "version": 3
   },
   "file_extension": ".py",
   "mimetype": "text/x-python",
   "name": "python",
   "nbconvert_exporter": "python",
   "pygments_lexer": "ipython3",
   "version": "3.6.3"
  }
 },
 "nbformat": 4,
 "nbformat_minor": 2
}
