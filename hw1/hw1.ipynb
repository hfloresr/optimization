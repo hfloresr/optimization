{
 "cells": [
  {
   "cell_type": "markdown",
   "metadata": {},
   "source": [
    "## Problem 1 - 1D unconstrained optimization"
   ]
  },
  {
   "cell_type": "markdown",
   "metadata": {},
   "source": [
    "### (a). Write a functioning one-dimensional black box unconstrained function optimizer."
   ]
  },
  {
   "cell_type": "code",
   "execution_count": 1,
   "metadata": {
    "collapsed": true
   },
   "outputs": [],
   "source": [
    "%matplotlib inline"
   ]
  },
  {
   "cell_type": "code",
   "execution_count": 2,
   "metadata": {
    "collapsed": true
   },
   "outputs": [],
   "source": [
    "import timeit\n",
    "import numpy as np\n",
    "import matplotlib\n",
    "matplotlib.rcParams['text.usetex'] = True\n",
    "matplotlib.rcParams['text.latex.unicode'] = True\n",
    "import matplotlib.pyplot as plt\n",
    "import seaborn as sns"
   ]
  },
  {
   "cell_type": "markdown",
   "metadata": {},
   "source": [
    "Here we will use the Fibonacci method for optimization. Our function will return a couple of useful values:\n",
    "* $x^*$\n",
    "* $f(x^*)$\n",
    "* number of function calls for $f(x)$"
   ]
  },
  {
   "cell_type": "code",
   "execution_count": 3,
   "metadata": {
    "collapsed": true
   },
   "outputs": [],
   "source": [
    "def fib_min(f, x_1, x_4, n):\n",
    "    I_0 = np.abs(x_4 - x_1)  # Initial interval of uncertainty\n",
    "    c = (np.sqrt(5) - 1) / 2\n",
    "    s = (1 - np.sqrt(5)) / (1 + np.sqrt(5))\n",
    "    alpha = (c*(1 - s**n)) / (1 - s**(n+1))\n",
    "    x_3 = alpha*x_4 + (1 - alpha)*x_1\n",
    "    f_3 = f(x_3)\n",
    "    \n",
    "    for i in range(1, n+1):\n",
    "        x_2 = 0.01*x_1 + 0.99*x_3 if i == n else alpha*x_1 + (1 - alpha)*x_4\n",
    "        \n",
    "        f_2 = f(x_2)\n",
    "        if f_2 < f_3:\n",
    "            x_4 = x_3\n",
    "            x_3 = x_2\n",
    "            f_3 = f_2\n",
    "        else:\n",
    "            x_1 = x_4\n",
    "            x_4 = x_2\n",
    "        alpha = (c*(1 - s**(n-i))) / (1 - s**(n-i+1))\n",
    "        \n",
    "    x_star = np.median([x_1, x_2, x_3, x_4])\n",
    "    f_star = f(x_star)\n",
    "    ncalls = f.called()\n",
    "    f.reset()\n",
    "    return(x_star, f_star, ncalls)"
   ]
  },
  {
   "cell_type": "markdown",
   "metadata": {},
   "source": [
    "### (b). Test code of part (a). on two different 1D unconstrained optimization problems, with optimization starting points drawn from a probability distribution."
   ]
  },
  {
   "cell_type": "markdown",
   "metadata": {},
   "source": [
    "First, let's create a little helper function to keep track of the number of function calls"
   ]
  },
  {
   "cell_type": "code",
   "execution_count": 4,
   "metadata": {
    "collapsed": true
   },
   "outputs": [],
   "source": [
    "# Helper function to count function calls\n",
    "def count(f):\n",
    "    def call(*args,**kargs):\n",
    "        call.calls += 1\n",
    "        return f(*args,**kargs)\n",
    "\n",
    "    call.calls = 0\n",
    "    def reset(): call.calls = 0 \n",
    "    call.reset = reset\n",
    "    call.called = lambda : call.calls\n",
    "    return call"
   ]
  },
  {
   "cell_type": "markdown",
   "metadata": {},
   "source": [
    "Let's make up some functions, $f(x)$, to optimize:\n",
    "* $f_{1}(x) = x^2 + 2x \\:$  (quadratic)\n",
    "* $f_{2}(x) = x^3 - 13x^2 + 36 \\:$  (non-quadratic)\n",
    "\n",
    "Let's also plot the functions to have a general sense of the interval to use for our optimizer"
   ]
  },
  {
   "cell_type": "code",
   "execution_count": 5,
   "metadata": {
    "collapsed": true
   },
   "outputs": [],
   "source": [
    "@count\n",
    "def f_1(x):\n",
    "    return x**2 + 2*x\n",
    "\n",
    "@count\n",
    "def f_2(x):\n",
    "    return x**3 - 3*x**2 + 36"
   ]
  },
  {
   "cell_type": "code",
   "execution_count": 22,
   "metadata": {},
   "outputs": [
    {
     "data": {
      "image/png": "[encoded data removed]",
      "text/plain": [
       "<matplotlib.figure.Figure at 0x7fc17aa9a7f0>"
      ]
     },
     "metadata": {},
     "output_type": "display_data"
    }
   ],
   "source": [
    "fig, (ax1, ax2) = plt.subplots(1, 2, figsize=(12, 5))\n",
    "x1 = np.arange(-20, 20, 0.5)\n",
    "x2 = np.arange(-20, 20, 0.5)\n",
    "\n",
    "ax1.plot(x1, f_1(x1))\n",
    "ax1.set_title(r\"$f_{1}(x) = x^2 + 2x$\", size=20)\n",
    "ax1.spines['right'].set_visible(False)\n",
    "ax1.spines['top'].set_visible(False)\n",
    "\n",
    "ax2.plot(x2, f_2(x2))\n",
    "ax2.set_title(r'$f_{2}(x) = x^3 - 13x^2 + 36$', size=20)\n",
    "ax2.spines['right'].set_visible(False)\n",
    "ax2.spines['top'].set_visible(False)\n",
    "\n",
    "plt.tight_layout()"
   ]
  },
  {
   "cell_type": "markdown",
   "metadata": {},
   "source": [
    "We now need to determine the starting points for our optimizer and determine the number of iterations or stopping conditions. For simplicity, let us obtain $x^*$ such that $f(x^*)$ is within $1\\%$ of the true optimum.\n",
    "\n",
    "$$\\begin{aligned}\n",
    "\\frac{I_n}{2I_0} &\\leq \\frac{1}{100}\\\\\n",
    "\\frac{I_n}{I_0}  &\\leq \\frac{1}{50}\\\\\n",
    "\\frac{1}{F_n}    &\\leq \\frac{1}{50}\\\\\n",
    "F_n              &\\geq 50\n",
    "\\end{aligned}$$\n",
    "\n",
    "Let us now obtain $n$ from the fibonacci sequence using Binet's formula"
   ]
  },
  {
   "cell_type": "code",
   "execution_count": 7,
   "metadata": {},
   "outputs": [
    {
     "name": "stdout",
     "output_type": "stream",
     "text": [
      "n = 10\n",
      "fib_n = 55.000000000000014\n"
     ]
    }
   ],
   "source": [
    "def fib(n):\n",
    "    return (((1 + np.sqrt(5)) / 2)**n - ((1 - np.sqrt(5)) / 2)**n) / np.sqrt(5)\n",
    "\n",
    "for n in range(2, 100):\n",
    "    fib_n = fib(n)\n",
    "    if fib_n >= 50:\n",
    "        print('n = {}\\nfib_n = {}'.format(n, fib_n))\n",
    "        break"
   ]
  },
  {
   "cell_type": "markdown",
   "metadata": {},
   "source": [
    "Let us now create some random samples for our starting points. We'll draw from uniform distribution and sample from the interval $[-100, 100)$"
   ]
  },
  {
   "cell_type": "code",
   "execution_count": 8,
   "metadata": {
    "collapsed": true
   },
   "outputs": [],
   "source": [
    "# Set random seed\n",
    "np.random.seed(23)\n",
    "\n",
    "# Create samples\n",
    "f1_samples = 10 * np.random.random_sample((10, 2)) - 5\n",
    "f2_samples = 12 * np.random.random_sample((10, 2)) + 3"
   ]
  },
  {
   "cell_type": "code",
   "execution_count": 9,
   "metadata": {
    "collapsed": true
   },
   "outputs": [],
   "source": [
    "# Override template to get return value of our function\n",
    "timeit.template = \"\"\"\n",
    "def inner(_it, _timer{init}):\n",
    "    {setup}\n",
    "    _t0 = _timer()\n",
    "    for _i in _it:\n",
    "        retval = {stmt}\n",
    "    _t1 = _timer()\n",
    "    return _t1 - _t0, retval\n",
    "\"\"\""
   ]
  },
  {
   "cell_type": "markdown",
   "metadata": {},
   "source": [
    "We are all setup for running our simulation. Let us gather the results for $f_1$ and $f_2$. Finally we wan't to gather some basic statistics (i.e. mean, std. dev) and plot our results"
   ]
  },
  {
   "cell_type": "code",
   "execution_count": 10,
   "metadata": {
    "collapsed": true
   },
   "outputs": [],
   "source": [
    "n = 10\n",
    "f1_setup = 'from __main__ import fib_min, f_1, s, n'\n",
    "f1_test = 'fib_min(f_1, s[0], s[1], n)'\n",
    "f1_results = []\n",
    "\n",
    "for s in f1_samples:\n",
    "    f1_results.append(timeit.timeit(stmt=f1_test, setup=f1_setup, number=1))"
   ]
  },
  {
   "cell_type": "code",
   "execution_count": 11,
   "metadata": {
    "collapsed": true
   },
   "outputs": [],
   "source": [
    "n = 10\n",
    "f2_setup = 'from __main__ import fib_min, f_2, s, n'\n",
    "f2_test = 'fib_min(f_2, s[0], s[1], n)'\n",
    "f2_results = []\n",
    "\n",
    "for s in f2_samples:\n",
    "    f2_results.append(timeit.timeit(stmt=f2_test, setup=f2_setup, number=1))"
   ]
  },
  {
   "cell_type": "code",
   "execution_count": 12,
   "metadata": {},
   "outputs": [
    {
     "data": {
      "text/plain": [
       "[(0.00031502999991062097, (0.22077300394550425, 0.49028672716213012, 13)),\n",
       " (0.00024079399736365303, (-0.98249375130626904, -0.99969353125667326, 12)),\n",
       " (0.0001586680009495467, (-1.0127280905781031, -0.99983799571023568, 12)),\n",
       " (0.00010602999827824533, (-1.1010168836285472, -0.98979558922197652, 12)),\n",
       " (0.00017196100088767707, (-0.85742344875455867, -0.97967192703495609, 12)),\n",
       " (0.0001428949981345795, (-1.0122604329506368, -0.99984968178386291, 12)),\n",
       " (0.00014444200132857077, (-1.0110553483683551, -0.99987777927245425, 12)),\n",
       " (0.00011154800085932948, (0.93907220274176495, 2.7600010074458003, 12)),\n",
       " (0.00016382700050598942, (-1.0179536161182714, -0.9996776676682777, 12)),\n",
       " (0.00011302100028842688, (-2.0533243498902616, 0.10949218607174238, 12))]"
      ]
     },
     "execution_count": 12,
     "metadata": {},
     "output_type": "execute_result"
    }
   ],
   "source": [
    "f1_results"
   ]
  },
  {
   "cell_type": "code",
   "execution_count": 13,
   "metadata": {},
   "outputs": [
    {
     "data": {
      "text/plain": [
       "[(0.00022136100233183242, (10.54079394554303, 873.8450749670269, 13)),\n",
       " (0.00015103700206964277, (3.0210220594762953, 36.191859387409764, 12)),\n",
       " (0.0001784939995559398, (4.8065037627030804, 77.734714195084393, 12)),\n",
       " (0.0001812189984775614, (7.1680507138878387, 250.15840964945352, 12)),\n",
       " (0.00013467199823935516, (8.2021122793723045, 385.97026123252982, 12)),\n",
       " (0.00013925299936090596, (11.629249583790283, 1203.0149320900232, 12)),\n",
       " (0.0001658469991525635, (4.4953778492096674, 66.219226636995614, 12)),\n",
       " (0.000117019000754226, (3.937485503019325, 50.534580322907622, 12)),\n",
       " (0.00011335199815221131, (8.6223334994902636, 453.99033173536924, 12)),\n",
       " (0.0001349949998257216, (4.9964498775371275, 85.840395684861249, 12))]"
      ]
     },
     "execution_count": 13,
     "metadata": {},
     "output_type": "execute_result"
    }
   ],
   "source": [
    "f2_results"
   ]
  },
  {
   "cell_type": "code",
   "execution_count": 44,
   "metadata": {},
   "outputs": [],
   "source": [
    "# Create matrix of results for easier computation\n",
    "f1_mat = np.array([list([e[0], e[1][0], e[1][1], e[1][2]]) for e in f1_results])\n",
    "f2_mat = np.array([list([e[0], e[1][0], e[1][1], e[1][2]]) for e in f2_results])"
   ]
  },
  {
   "cell_type": "code",
   "execution_count": 45,
   "metadata": {},
   "outputs": [],
   "source": [
    "f1_mat = np.array(f1_mat)"
   ]
  },
  {
   "cell_type": "code",
   "execution_count": 46,
   "metadata": {},
   "outputs": [
    {
     "data": {
      "text/plain": [
       "-0.99473662844512711"
      ]
     },
     "execution_count": 46,
     "metadata": {},
     "output_type": "execute_result"
    }
   ],
   "source": [
    "np.median(f1_mat[:,2])"
   ]
  },
  {
   "cell_type": "code",
   "execution_count": 50,
   "metadata": {},
   "outputs": [
    {
     "data": {
      "text/plain": [
       "1.1621137742108647"
      ]
     },
     "execution_count": 50,
     "metadata": {},
     "output_type": "execute_result"
    }
   ],
   "source": [
    "np.std(f1_mat[:,2])"
   ]
  },
  {
   "cell_type": "code",
   "execution_count": 49,
   "metadata": {},
   "outputs": [
    {
     "data": {
      "text/plain": [
       "167.99940266715737"
      ]
     },
     "execution_count": 49,
     "metadata": {},
     "output_type": "execute_result"
    }
   ],
   "source": [
    "np.median(f2_mat[:,2])"
   ]
  },
  {
   "cell_type": "code",
   "execution_count": 51,
   "metadata": {},
   "outputs": [
    {
     "data": {
      "text/plain": [
       "1.1621137742108647"
      ]
     },
     "execution_count": 51,
     "metadata": {},
     "output_type": "execute_result"
    }
   ],
   "source": [
    "np.std(f1_mat[:,2])"
   ]
  },
  {
   "cell_type": "code",
   "execution_count": null,
   "metadata": {
    "collapsed": true
   },
   "outputs": [],
   "source": []
  }
 ],
 "metadata": {
  "kernelspec": {
   "display_name": "Python 3",
   "language": "python",
   "name": "python3"
  },
  "language_info": {
   "codemirror_mode": {
    "name": "ipython",
    "version": 3
   },
   "file_extension": ".py",
   "mimetype": "text/x-python",
   "name": "python",
   "nbconvert_exporter": "python",
   "pygments_lexer": "ipython3",
   "version": "3.6.3"
  }
 },
 "nbformat": 4,
 "nbformat_minor": 2
}
