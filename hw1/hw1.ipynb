{
 "cells": [
  {
   "cell_type": "markdown",
   "metadata": {},
   "source": [
    "## Problem 1 - 1D unconstrained optimization"
   ]
  },
  {
   "cell_type": "markdown",
   "metadata": {},
   "source": [
    "### (a). Write a functioning one-dimensional black box unconstrained function optimizer."
   ]
  },
  {
   "cell_type": "code",
   "execution_count": 253,
   "metadata": {
    "collapsed": true
   },
   "outputs": [],
   "source": [
    "import numpy as np\n",
    "import matplotlib.pyplot as plt\n",
    "import timeit"
   ]
  },
  {
   "cell_type": "markdown",
   "metadata": {},
   "source": [
    "Here we will use the Fibonacci method for optimization. Our function will return a couple of useful values:\n",
    "* $x^*$\n",
    "* $f(x^*)$\n",
    "* number of function calls for $f(x)$"
   ]
  },
  {
   "cell_type": "code",
   "execution_count": null,
   "metadata": {
    "collapsed": true
   },
   "outputs": [],
   "source": [
    "\n",
    "\n",
    "\n",
    "\n",
    "\n",
    "\n",
    "\n",
    "\n",
    "\n",
    "\n",
    "\n",
    "\n",
    "\n",
    "\n",
    "\n",
    "\n",
    "\n",
    "\n",
    "\n",
    "\n",
    "\n",
    "\n",
    "\n",
    "\n",
    "\n",
    "\n",
    "\n",
    "\n",
    "\n",
    "\n",
    "\n",
    "\n",
    "\n",
    "\n",
    "\n",
    "\n",
    "\n",
    "\n",
    "\n",
    "\n",
    "\n",
    "\n",
    "\n",
    "\n",
    "\n",
    "\n",
    "\n",
    "\n",
    "\n",
    "\n",
    "\n",
    "\n",
    "\n",
    "\n",
    "\n",
    "\n",
    "\n",
    "\n",
    "\n",
    "\n",
    "\n",
    "\n",
    "\n",
    "\n",
    "\n",
    "\n",
    "\n",
    "\n",
    "\n",
    "\n",
    "\n",
    "\n",
    "\n",
    "\n",
    "\n",
    "\n",
    "\n",
    "\n",
    "\n",
    "\n",
    "\n",
    "\n",
    "\n",
    "\n",
    "\n",
    "\n",
    "\n",
    "\n",
    "\n",
    "\n",
    "\n",
    "\n",
    "\n",
    "\n",
    "\n",
    "\n",
    "\n",
    "\n",
    "\n",
    "\n",
    "\n"
   ]
  },
  {
   "cell_type": "code",
   "execution_count": 247,
   "metadata": {
    "collapsed": true
   },
   "outputs": [],
   "source": [
    "def fib_min(f, x_1, x_4, n):\n",
    "    I_0 = np.abs(x_4 - x_1)  # Initial interval of uncertainty\n",
    "    c = (np.sqrt(5) - 1) / 2\n",
    "    s = (1 - np.sqrt(5)) / (1 + np.sqrt(5))\n",
    "    alpha = (c*(1 - s**n)) / (1 - s**(n+1))\n",
    "    x_3 = alpha*x_4 + (1 - alpha)*x_1\n",
    "    f_3 = f(x_3)\n",
    "    \n",
    "    for i in range(1, n+1):\n",
    "        x_2 = 0.01*x_1 + 0.99*x_3 if i == n else alpha*x_1 + (1 - alpha)*x_4\n",
    "        \n",
    "        f_2 = f(x_2)\n",
    "        if f_2 < f_3:\n",
    "            x_4 = x_3\n",
    "            x_3 = x_2\n",
    "            f_3 = f_2\n",
    "        else:\n",
    "            x_1 = x_4\n",
    "            x_4 = x_2\n",
    "        alpha = (c*(1 - s**(n-i))) / (1 - s**(n-i+1))\n",
    "        \n",
    "    x_star = np.median([x_1, x_2, x_3, x_4])\n",
    "    f_star = f(x_star)\n",
    "    ncalls = f.called()\n",
    "    f.reset()\n",
    "    return(x_star, f_star, ncalls)"
   ]
  },
  {
   "cell_type": "code",
   "execution_count": null,
   "metadata": {
    "collapsed": true
   },
   "outputs": [],
   "source": []
  },
  {
   "cell_type": "markdown",
   "metadata": {},
   "source": [
    "### (b). Test code of part (a). on two different 1D unconstrained optimization problems, with optimization starting points drawn from a probability distribution."
   ]
  },
  {
   "cell_type": "markdown",
   "metadata": {},
   "source": [
    "First, let's create a little helper function to keep track of the number of function calls"
   ]
  },
  {
   "cell_type": "code",
   "execution_count": 248,
   "metadata": {
    "collapsed": true
   },
   "outputs": [],
   "source": [
    "# Helper function to count function calls\n",
    "def count(f):\n",
    "    def call(*args,**kargs):\n",
    "        call.calls += 1\n",
    "        return f(*args,**kargs)\n",
    "\n",
    "    call.calls = 0\n",
    "    def reset(): call.calls = 0 \n",
    "    call.reset = reset\n",
    "    call.called = lambda : call.calls\n",
    "    return call"
   ]
  },
  {
   "cell_type": "markdown",
   "metadata": {},
   "source": [
    "Let's make up some functions, $f(x)$, to optimize:\n",
    "* $f_{1}(x) = x^2 + 2x \\:$  (quadratic)\n",
    "* $f_{2}(x) = x^4 - 13x^2 + 36 \\:$  (non-quadratic)"
   ]
  },
  {
   "cell_type": "code",
   "execution_count": 249,
   "metadata": {},
   "outputs": [],
   "source": [
    "@count\n",
    "def f_1(x):\n",
    "    return x**2 + 2*x\n",
    "\n",
    "@count\n",
    "def f_2(x):\n",
    "    return x**4 - 13*x**2 + 36"
   ]
  },
  {
   "cell_type": "markdown",
   "metadata": {},
   "source": [
    "We now need to determine the starting points for our optimizer and determine the number of iterations or stopping conditions. For simplicity, let us obtain $x^*$ such that $f(x^*)$ is within $1\\%$ of the true optimum.\n",
    "\n",
    "$$\\begin{aligned}\n",
    "\\frac{I_n}{2I_0} &\\leq \\frac{1}{100}\\\\\n",
    "\\frac{I_n}{I_0}  &\\leq \\frac{1}{50}\\\\\n",
    "\\frac{1}{F_n}    &\\leq \\frac{1}{50}\\\\\n",
    "F_n              &\\geq 50\n",
    "\\end{aligned}$$\n",
    "\n",
    "Let us now obtain $n$ from the fibonacci sequence using Binet's formula"
   ]
  },
  {
   "cell_type": "code",
   "execution_count": 250,
   "metadata": {},
   "outputs": [
    {
     "name": "stdout",
     "output_type": "stream",
     "text": [
      "n = 10\n",
      "fib_n = 55.000000000000014\n"
     ]
    }
   ],
   "source": [
    "def fib(n):\n",
    "    return (((1 + np.sqrt(5)) / 2)**n - ((1 - np.sqrt(5)) / 2)**n) / np.sqrt(5)\n",
    "\n",
    "for n in range(2, 100):\n",
    "    fib_n = fib(n)\n",
    "    if fib_n >= 50:\n",
    "        print('n = {}\\nfib_n = {}'.format(n, fib_n))\n",
    "        break"
   ]
  },
  {
   "cell_type": "markdown",
   "metadata": {},
   "source": [
    "Let us now create some random samples for our starting points. We'll draw from uniform distribution and sample from the interval $[-100, 100)$"
   ]
  },
  {
   "cell_type": "code",
   "execution_count": 251,
   "metadata": {},
   "outputs": [
    {
     "data": {
      "text/plain": [
       "array([[-25.09197623,  90.14286128],\n",
       "       [ 46.39878836,  19.73169684],\n",
       "       [-68.79627191, -68.80109593],\n",
       "       [-88.38327757,  73.23522915],\n",
       "       [ 20.22300235,  41.61451556],\n",
       "       [-95.88310114,  93.98197043],\n",
       "       [ 66.48852816, -57.53217786],\n",
       "       [-63.63500656, -63.31909803],\n",
       "       [-39.15155141,   4.95128633],\n",
       "       [-13.61099627, -41.75417196]])"
      ]
     },
     "execution_count": 251,
     "metadata": {},
     "output_type": "execute_result"
    }
   ],
   "source": [
    "# Set random seed\n",
    "np.random.seed(42)\n",
    "\n",
    "# Create samples\n",
    "samples = 200 * np.random.random_sample((10, 2)) - 100\n",
    "samples"
   ]
  },
  {
   "cell_type": "code",
   "execution_count": 252,
   "metadata": {},
   "outputs": [],
   "source": [
    "n = 10\n",
    "f1_results = [fib_min(f_1, s[0], s[1], n) for s in samples]\n",
    "f2_results = [fib_min(f_2, s[0], s[1], n) for s in samples]"
   ]
  },
  {
   "cell_type": "code",
   "execution_count": 238,
   "metadata": {
    "scrolled": true
   },
   "outputs": [
    {
     "name": "stdout",
     "output_type": "stream",
     "text": [
      "-0.997980053024 -0.998916184825 -0.998916184825 -0.998863779826\n",
      "[-0.99891618482514843, -0.99891618482514843, -0.99886377982577956, -0.99798005302360815]\n",
      "CPU times: user 3.27 ms, sys: 150 µs, total: 3.42 ms\n",
      "Wall time: 2.12 ms\n"
     ]
    }
   ],
   "source": [
    "%%time\n",
    "x_star, f_star, fcalls = fib_min(f_1, -3, 4, 10)"
   ]
  },
  {
   "cell_type": "code",
   "execution_count": 212,
   "metadata": {},
   "outputs": [
    {
     "name": "stdout",
     "output_type": "stream",
     "text": [
      "12\n"
     ]
    }
   ],
   "source": [
    "print(fcalls)"
   ]
  },
  {
   "cell_type": "code",
   "execution_count": 213,
   "metadata": {},
   "outputs": [
    {
     "name": "stdout",
     "output_type": "stream",
     "text": [
      "optimal x: -1.0329213483146065\n",
      "optimal f: -0.9989161848251484\n"
     ]
    }
   ],
   "source": [
    "print('optimal x: {}\\noptimal f: {}'.format(x_star, f_star))"
   ]
  },
  {
   "cell_type": "code",
   "execution_count": 214,
   "metadata": {
    "collapsed": true
   },
   "outputs": [],
   "source": [
    "acc = (-1 - f_star) / -1"
   ]
  },
  {
   "cell_type": "code",
   "execution_count": 210,
   "metadata": {},
   "outputs": [
    {
     "name": "stdout",
     "output_type": "stream",
     "text": [
      "7.16513459675e-06\n"
     ]
    }
   ],
   "source": [
    "print(acc*100)"
   ]
  },
  {
   "cell_type": "code",
   "execution_count": 142,
   "metadata": {},
   "outputs": [],
   "source": []
  },
  {
   "cell_type": "code",
   "execution_count": 143,
   "metadata": {},
   "outputs": [
    {
     "data": {
      "text/plain": [
       "array([[  1.94972259,  11.94734344],\n",
       "       [-79.02933576,  80.69103427],\n",
       "       [-17.0294361 ,  29.91113313],\n",
       "       [ 19.12171141, -12.72359808],\n",
       "       [ 32.53363108,  57.90843627],\n",
       "       [ 70.67970401, -65.63926054],\n",
       "       [-51.68873599,  55.21598998],\n",
       "       [-66.86649278,   7.77447779],\n",
       "       [ -0.3172908 , -41.03367147],\n",
       "       [  6.9478492 , -70.39627008]])"
      ]
     },
     "execution_count": 143,
     "metadata": {},
     "output_type": "execute_result"
    }
   ],
   "source": [
    "samples"
   ]
  },
  {
   "cell_type": "code",
   "execution_count": 148,
   "metadata": {},
   "outputs": [
    {
     "data": {
      "text/plain": [
       "11.947343443286783"
      ]
     },
     "execution_count": 148,
     "metadata": {},
     "output_type": "execute_result"
    }
   ],
   "source": []
  },
  {
   "cell_type": "code",
   "execution_count": null,
   "metadata": {
    "collapsed": true
   },
   "outputs": [],
   "source": []
  }
 ],
 "metadata": {
  "kernelspec": {
   "display_name": "Python 3",
   "language": "python",
   "name": "python3"
  },
  "language_info": {
   "codemirror_mode": {
    "name": "ipython",
    "version": 3
   },
   "file_extension": ".py",
   "mimetype": "text/x-python",
   "name": "python",
   "nbconvert_exporter": "python",
   "pygments_lexer": "ipython3",
   "version": "3.6.1"
  }
 },
 "nbformat": 4,
 "nbformat_minor": 2
}
