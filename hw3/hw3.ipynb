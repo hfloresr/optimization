{
 "cells": [
  {
   "cell_type": "markdown",
   "metadata": {},
   "source": [
    "# CompSci 169 - Optimization <br> Homework 3\n",
    "## Hector G. Flores Rodriguez (Id. 25721714)"
   ]
  },
  {
   "cell_type": "markdown",
   "metadata": {},
   "source": [
    "### 1. Unconstrained minimization of multivariate Rosenbrock function.<sup>[1](#scipy1)</sup>\n",
    "\n",
    "To demonstrate SciPy's [minimize](https://docs.scipy.org/doc/scipy/reference/generated/scipy.optimize.minimize.html#scipy.optimize.minimize) in [scipy.optimize](https://docs.scipy.org/doc/scipy/reference/optimize.html#module-scipy.optimize), we will consider minimizing the multivariate generalization of the [Rosenbrock function](https://en.wikipedia.org/wiki/Rosenbrock_function) defined as:\n",
    "\n",
    "$$\n",
    "f(\\mathbf{x}) = \\sum_{i=1}^{N-1} [100(x_{i+1} - x_{i}^{2})^2 + (1 - x_{i})^2] \\;, \\quad \\text{where} \\space \\mathbf{x} \\in \\mathbb{R}^N\n",
    "$$\n",
    "\n",
    "This variant has a minimum at $x_{i}^{*} = 1$, for $i=1,\\ldots ,N$\n",
    "\n",
    "<br>\n",
    "\n",
    "#### References\n",
    "<a name=\"scipy1\">1</a>: [\"Generalized Rosenbrock's function\"](https://docs.scipy.org/doc/scipy/reference/tutorial/optimize.html). Retrieved 2008-09-16.\n",
    "\n",
    "<a name=\"rosen\">2</a>: H. H. Rosenbrock; An Automatic Method for Finding the Greatest or Least Value of a Function, The Computer Journal, Volume 3, Issue 3, 1 January 1960, Pages 175–184, https://doi.org/10.1093/comjnl/3.3.175"
   ]
  },
  {
   "cell_type": "code",
   "execution_count": 1,
   "metadata": {
    "collapsed": true
   },
   "outputs": [],
   "source": [
    "%matplotlib inline"
   ]
  },
  {
   "cell_type": "code",
   "execution_count": 2,
   "metadata": {
    "collapsed": true
   },
   "outputs": [],
   "source": [
    "import numpy as np\n",
    "from scipy.optimize import minimize"
   ]
  },
  {
   "cell_type": "code",
   "execution_count": 3,
   "metadata": {
    "collapsed": true
   },
   "outputs": [],
   "source": [
    "def rosen(x):\n",
    "    \"\"\"The Rosenbrock function.\n",
    "    \n",
    "    Reference:\n",
    "        https://docs.scipy.org/doc/scipy/reference/tutorial/optimize.html\n",
    "    \"\"\"\n",
    "    return sum(100.0*(x[1:] - x[:-1]**2.0)**2.0 + (1 - x[:-1])**2.0)"
   ]
  },
  {
   "cell_type": "code",
   "execution_count": 4,
   "metadata": {},
   "outputs": [
    {
     "data": {
      "text/plain": [
       "array([-0.42478132,  2.50753276,  0.91099384,  1.90362468,  3.69020342,\n",
       "        2.06467578,  3.7003758 ,  2.72242275,  3.95737147, -1.09075426])"
      ]
     },
     "execution_count": 4,
     "metadata": {},
     "output_type": "execute_result"
    }
   ],
   "source": [
    "np.random.seed(13)\n",
    "mu, sigma = 1, 2\n",
    "x0 = np.random.normal(mu, sigma, size=(10,))  # N=10 for Rosenbrock function\n",
    "x0"
   ]
  },
  {
   "cell_type": "code",
   "execution_count": 5,
   "metadata": {},
   "outputs": [
    {
     "name": "stdout",
     "output_type": "stream",
     "text": [
      "Warning: Maximum number of function evaluations has been exceeded.\n"
     ]
    },
    {
     "data": {
      "text/plain": [
       "array([ -1.17067668,   1.15723268,   1.12073321,   1.1122073 ,\n",
       "         1.12125056,   1.19744898,   1.37010315,   1.84298227,\n",
       "         3.40519087,  11.59507507])"
      ]
     },
     "execution_count": 5,
     "metadata": {},
     "output_type": "execute_result"
    }
   ],
   "source": [
    "# The minimize routine is used with Nelder-Mead simplex algorithm\n",
    "# Reference: https://docs.scipy.org/doc/scipy/reference/tutorial/optimize.html\n",
    "res = minimize(rosen, x0, method='nelder-mead', options={'xtol': 1e-8, 'disp': True})\n",
    "res.x"
   ]
  },
  {
   "cell_type": "markdown",
   "metadata": {},
   "source": [
    "For further demonstration we will paramerterize the rosenbrock function defined above, such that we can vary constants $a$ and $b$. The multivariate Rosenbrock function is now defined to be:\n",
    "\n",
    "$$\n",
    "f(\\mathbf{x}) = \\sum_{i=1}^{N-1} [b(x_{i+1} - x_{i}^{2})^2 + (a - x_{i})^2] \\;, \\quad \\text{where} \\space \\mathbf{x} \\in \\mathbb{R}^N \\: \\text{and } \\space a, \\;b \\in \\mathbb{R}\n",
    "$$"
   ]
  },
  {
   "cell_type": "code",
   "execution_count": 6,
   "metadata": {
    "collapsed": true
   },
   "outputs": [],
   "source": [
    "def rosen_param(x, a, b):\n",
    "    \"\"\"The Rosenbrock function.\n",
    "    \n",
    "    Reference:\n",
    "        https://docs.scipy.org/doc/scipy/reference/tutorial/optimize.html\n",
    "    \"\"\"\n",
    "    return sum(b*(x[1:] - x[:-1]**2.0)**2.0 + (a - x[:-1])**2.0)"
   ]
  },
  {
   "cell_type": "code",
   "execution_count": 7,
   "metadata": {},
   "outputs": [
    {
     "name": "stdout",
     "output_type": "stream",
     "text": [
      "xx0: [  5.65   0.86  11.83  -0.77   5.53   7.92   1.74   2.43   1.59   6.97]\n",
      "a: 3\n",
      "b: 186\n"
     ]
    }
   ],
   "source": [
    "np.random.seed(13)\n",
    "a = np.random.randint(1, 10)                   # Randomly pick a from interval [1, 10]\n",
    "b = np.random.randint(10, 200)                 # Randomly pick b from interval [10, 200]\n",
    "mu, sigma = a, 4                               # \n",
    "xx0 = np.random.normal(mu, sigma, size=(10,))  # N=10 for Rosenbrock function\n",
    "\n",
    "print(\"xx0: {}\".format(np.array_str(xx0, precision=2)), \n",
    "      \"a: {}\".format(a), \n",
    "      \"b: {}\".format(b), sep='\\n')"
   ]
  },
  {
   "cell_type": "code",
   "execution_count": 8,
   "metadata": {},
   "outputs": [
    {
     "name": "stdout",
     "output_type": "stream",
     "text": [
      "Warning: Maximum number of function evaluations has been exceeded.\n"
     ]
    },
    {
     "data": {
      "text/plain": [
       "array([ -7.37875061e-01,   7.10982450e-01,   5.95803535e-01,\n",
       "         2.93032220e-01,   1.75710761e-01,   9.96809838e-03,\n",
       "        -1.22131945e+00,   1.93623025e+00,   3.88950296e+00,\n",
       "         1.49176282e+01])"
      ]
     },
     "execution_count": 8,
     "metadata": {},
     "output_type": "execute_result"
    }
   ],
   "source": [
    "# The minimize routine is used with Nelder-Mead simplex algorithm\n",
    "# Reference: https://docs.scipy.org/doc/scipy/reference/tutorial/optimize.html\n",
    "res2 = minimize(rosen_param, xx0, args=(a, b), method='nelder-mead', options={'xtol': 1e-100, 'disp': True})\n",
    "res2.x"
   ]
  },
  {
   "cell_type": "code",
   "execution_count": null,
   "metadata": {
    "collapsed": true
   },
   "outputs": [],
   "source": []
  }
 ],
 "metadata": {
  "kernelspec": {
   "display_name": "Python 3",
   "language": "python",
   "name": "python3"
  },
  "language_info": {
   "codemirror_mode": {
    "name": "ipython",
    "version": 3
   },
   "file_extension": ".py",
   "mimetype": "text/x-python",
   "name": "python",
   "nbconvert_exporter": "python",
   "pygments_lexer": "ipython3",
   "version": "3.6.1"
  }
 },
 "nbformat": 4,
 "nbformat_minor": 2
}
