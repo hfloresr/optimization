{
 "cells": [
  {
   "cell_type": "markdown",
   "metadata": {},
   "source": [
    "# CompSci 169 - Optimization <br> Homework 3\n",
    "## Hector G. Flores Rodriguez (Id. 25721714)"
   ]
  },
  {
   "cell_type": "markdown",
   "metadata": {},
   "source": [
    "### 1. Unconstrained minimization of multivariate Rosenbrock function.<sup>[1](#scipy1)</sup>\n",
    "\n",
    "To demonstrate SciPy's [minimize](https://docs.scipy.org/doc/scipy/reference/generated/scipy.optimize.minimize.html#scipy.optimize.minimize) in [scipy.optimize](https://docs.scipy.org/doc/scipy/reference/optimize.html#module-scipy.optimize), we will consider minimizing the multivariate generalization of the [Rosenbrock function](https://en.wikipedia.org/wiki/Rosenbrock_function) defined as:\n",
    "\n",
    "$$\n",
    "f(\\mathbf{x}) = \\sum_{i=1}^{N-1} [100(x_{i+1} - x_{i}^{2})^2 + (1 - x_{i})^2] \\;, \\quad \\text{where} \\space \\mathbf{x} \\in \\mathbb{R}^N\n",
    "$$\n",
    "\n",
    "This variant has a minimum at $x_{i}^{*} = 1$, for $i=1,\\ldots ,N$\n",
    "\n",
    "<br>\n",
    "\n",
    "#### References\n",
    "<a name=\"scipy1\">1</a>: [\"Generalized Rosenbrock's function\"](https://docs.scipy.org/doc/scipy/reference/tutorial/optimize.html). Retrieved 2008-09-16.\n",
    "\n",
    "<a name=\"rosen\">2</a>: H. H. Rosenbrock; An Automatic Method for Finding the Greatest or Least Value of a Function, The Computer Journal, Volume 3, Issue 3, 1 January 1960, Pages 175–184, https://doi.org/10.1093/comjnl/3.3.175"
   ]
  },
  {
   "cell_type": "code",
   "execution_count": 1,
   "metadata": {
    "collapsed": true
   },
   "outputs": [],
   "source": [
    "%matplotlib inline"
   ]
  },
  {
   "cell_type": "code",
   "execution_count": 2,
   "metadata": {
    "collapsed": true
   },
   "outputs": [],
   "source": [
    "import numpy as np\n",
    "import pandas as pd\n",
    "from scipy.optimize import minimize"
   ]
  },
  {
   "cell_type": "code",
   "execution_count": 3,
   "metadata": {
    "collapsed": true
   },
   "outputs": [],
   "source": [
    "def rosen(x):\n",
    "    \"\"\"The Rosenbrock function.\n",
    "    \n",
    "    Reference:\n",
    "        https://docs.scipy.org/doc/scipy/reference/tutorial/optimize.html\n",
    "    \"\"\"\n",
    "    return sum(100.0*(x[1:] - x[:-1]**2.0)**2.0 + (1 - x[:-1])**2.0)"
   ]
  },
  {
   "cell_type": "code",
   "execution_count": 4,
   "metadata": {},
   "outputs": [
    {
     "data": {
      "text/plain": [
       "array([[-0.42478132,  2.50753276,  0.91099384,  1.90362468,  3.69020342,\n",
       "         2.06467578,  3.7003758 ,  2.72242275,  3.95737147, -1.09075426],\n",
       "       [-0.57797805, -1.52321189,  2.12569357,  0.5133475 ,  2.82748141,\n",
       "         1.63470185,  1.25460656,  5.30076593,  2.21257731,  0.9464567 ],\n",
       "       [-0.96832156,  3.38141055,  2.90566122, -1.17436318,  0.70957733,\n",
       "         1.47571568, -2.27818682,  0.44373097,  3.79847684, -2.23021593],\n",
       "       [ 1.98174367,  4.78548444, -0.2419594 ,  0.09249524,  1.43490332,\n",
       "         2.02865771,  1.79448265, -2.02569023, -0.52806794,  1.20253957],\n",
       "       [ 0.36546806,  3.27666609,  0.35575269,  0.25976784,  4.69922513,\n",
       "         0.83669689, -0.96054864,  0.99522195,  0.53514826,  2.42194959],\n",
       "       [ 1.90631723,  0.33464845,  0.23108463, -0.06065482,  3.70061199,\n",
       "         5.03044165,  0.88493522,  2.12930858,  1.71906459, -0.02393019],\n",
       "       [-0.04632843,  0.03725717, -2.8483189 , -0.51490645,  1.90696208,\n",
       "         2.8446883 ,  0.5853006 ,  0.24816008,  2.27976795,  5.10738647],\n",
       "       [-0.85667045, -0.54932007,  0.12570869,  2.09583662, -0.70828591,\n",
       "         1.93131594, -0.44199935,  2.12452341,  0.37028385,  0.14020584],\n",
       "       [ 2.62999089, -1.37083762, -0.53725404,  2.45833094,  2.5318221 ,\n",
       "         1.41560011, -3.37423055,  2.44393011,  1.69750119,  0.32276349],\n",
       "       [-2.89078136,  2.66181132,  4.49848358,  2.00227459,  3.66063385,\n",
       "        -0.31503454,  1.3698919 , -0.30211296, -1.24101374,  0.30678642]])"
      ]
     },
     "execution_count": 4,
     "metadata": {},
     "output_type": "execute_result"
    }
   ],
   "source": [
    "np.random.seed(13)\n",
    "mu, sigma = 1, 2\n",
    "x0 = np.random.normal(mu, sigma, size=(10, 10))  # N=10 for rosenbrock, 10 different starting points\n",
    "x0"
   ]
  },
  {
   "cell_type": "code",
   "execution_count": 22,
   "metadata": {},
   "outputs": [],
   "source": [
    "# Use Nelder-Mead and BFGS with different starting points and varied tolerances\n",
    "# Reference: https://docs.scipy.org/doc/scipy/reference/tutorial/optimize.html\n",
    "true_x = np.ones(10)\n",
    "true_norm = np.linalg.norm(true_x)\n",
    "\n",
    "x_nelder1 = []\n",
    "y_nelder1 = []\n",
    "relx_error_nelder1 = []\n",
    "diff_nelder1 = []\n",
    "\n",
    "\n",
    "x_nelder2 = []\n",
    "y_nelder2 = []\n",
    "relx_error_nelder2 = []\n",
    "diff_nelder2 = []\n",
    "\n",
    "\n",
    "x_bfgs1 = []\n",
    "y_bfgs1 = []\n",
    "relx_error_bfgs1 = []\n",
    "diff_bfgs1 = []\n",
    "\n",
    "x_bfgs2 = []\n",
    "y_bfgs2 = []\n",
    "relx_error_bfgs2 = []\n",
    "diff_bfgs2 = []\n",
    "\n",
    "for x in x0:\n",
    "    res1 = minimize(rosen, x, method='nelder-mead', tol=1e-8)\n",
    "    x_nelder1 += [np.round(res1.x, 3)]\n",
    "    y_nelder1 += [np.round(res1.fun, 3)]\n",
    "    norm1 = np.linalg.norm(res1.x)\n",
    "    relx_error_nelder1 += [round(((norm1 / true_norm) - 1), 3)]\n",
    "    diff_nelder1 += [round(np.abs(res1.fun - 0), 3)]\n",
    "    \n",
    "    res2 = minimize(rosen, x, method='nelder-mead', tol=1e-16)\n",
    "    x_nelder2 += [np.round(res2.x, 3)]\n",
    "    y_nelder2 += [np.round(res2.fun, 3)]\n",
    "    norm2 = np.linalg.norm(res2.x)\n",
    "    relx_error_nelder2 += [round(((norm2 / true_norm) - 1), 3)]\n",
    "    diff_nelder2 += [np.abs(res2.fun - 0)]\n",
    "    \n",
    "    res3 = minimize(rosen, x, method='BFGS', tol=1e-8)\n",
    "    x_bfgs1 += [np.round(res3.x, 3)]\n",
    "    y_bfgs1 += [np.round(res3.fun, 3)]\n",
    "    norm3 = np.linalg.norm(res3.x)\n",
    "    relx_error_bfgs1 += [round(((norm3 / true_norm) - 1), 3)]\n",
    "    diff_bfgs1 += [round(np.abs(res3.fun - 0), 3)]\n",
    "    \n",
    "    res4 = minimize(rosen, x, method='BFGS', tol=1e-16)\n",
    "    x_bfgs2 += [np.round(res4.x, 3)]\n",
    "    y_bfgs2 += [np.round(res4.fun, 3)]\n",
    "    norm4 = np.linalg.norm(res4.x)\n",
    "    relx_error_bfgs2 += [round(((norm4 / true_norm) - 1), 3)]\n",
    "    diff_bfgs2 += [round(np.abs(res4.fun - 0), 3)]"
   ]
  },
  {
   "cell_type": "code",
   "execution_count": 23,
   "metadata": {},
   "outputs": [],
   "source": [
    "dn1 = {'x': pd.Series(x_nelder1), 'y': pd.Series(y_nelder1),\n",
    "       'rel_error': pd.Series(relx_error_nelder1), 'y_diff': pd.Series(diff_nelder1)}\n",
    "dn2 = {'x': pd.Series(x_nelder2), 'y': pd.Series(y_nelder2),\n",
    "       'rel_error': pd.Series(relx_error_nelder2), 'y_diff': pd.Series(diff_nelder2)}\n",
    "db1 = {'x': pd.Series(x_bfgs1), 'y': pd.Series(y_bfgs1),\n",
    "       'rel_error': pd.Series(relx_error_bfgs1), 'y_diff': pd.Series(diff_bfgs1)}\n",
    "db2 = {'x': pd.Series(x_bfgs2), 'y': pd.Series(y_bfgs2),\n",
    "       'rel_error': pd.Series(relx_error_bfgs2), 'y_diff': pd.Series(diff_bfgs2)}\n",
    "\n",
    "df_nelder1 = pd.DataFrame(dn1)\n",
    "df_nelder2 = pd.DataFrame(dn2)\n",
    "df_bfgs1 = pd.DataFrame(db1)\n",
    "df_bfgs2 = pd.DataFrame(db2)"
   ]
  },
  {
   "cell_type": "code",
   "execution_count": 24,
   "metadata": {},
   "outputs": [
    {
     "data": {
      "text/html": [
       "<div>\n",
       "<style>\n",
       "    .dataframe thead tr:only-child th {\n",
       "        text-align: right;\n",
       "    }\n",
       "\n",
       "    .dataframe thead th {\n",
       "        text-align: left;\n",
       "    }\n",
       "\n",
       "    .dataframe tbody tr th {\n",
       "        vertical-align: top;\n",
       "    }\n",
       "</style>\n",
       "<table border=\"1\" class=\"dataframe\">\n",
       "  <thead>\n",
       "    <tr style=\"text-align: right;\">\n",
       "      <th></th>\n",
       "      <th>rel_error</th>\n",
       "      <th>y</th>\n",
       "      <th>y_diff</th>\n",
       "    </tr>\n",
       "  </thead>\n",
       "  <tbody>\n",
       "    <tr>\n",
       "      <th>count</th>\n",
       "      <td>10.000000</td>\n",
       "      <td>10.000000</td>\n",
       "      <td>10.000000</td>\n",
       "    </tr>\n",
       "    <tr>\n",
       "      <th>mean</th>\n",
       "      <td>0.087900</td>\n",
       "      <td>37.805800</td>\n",
       "      <td>37.805800</td>\n",
       "    </tr>\n",
       "    <tr>\n",
       "      <th>std</th>\n",
       "      <td>1.139234</td>\n",
       "      <td>36.477887</td>\n",
       "      <td>36.477887</td>\n",
       "    </tr>\n",
       "    <tr>\n",
       "      <th>min</th>\n",
       "      <td>-0.919000</td>\n",
       "      <td>5.996000</td>\n",
       "      <td>5.996000</td>\n",
       "    </tr>\n",
       "    <tr>\n",
       "      <th>25%</th>\n",
       "      <td>-0.564000</td>\n",
       "      <td>9.880250</td>\n",
       "      <td>9.880250</td>\n",
       "    </tr>\n",
       "    <tr>\n",
       "      <th>50%</th>\n",
       "      <td>-0.278000</td>\n",
       "      <td>18.431500</td>\n",
       "      <td>18.431500</td>\n",
       "    </tr>\n",
       "    <tr>\n",
       "      <th>75%</th>\n",
       "      <td>0.275250</td>\n",
       "      <td>61.930500</td>\n",
       "      <td>61.930500</td>\n",
       "    </tr>\n",
       "    <tr>\n",
       "      <th>max</th>\n",
       "      <td>2.990000</td>\n",
       "      <td>98.303000</td>\n",
       "      <td>98.303000</td>\n",
       "    </tr>\n",
       "  </tbody>\n",
       "</table>\n",
       "</div>"
      ],
      "text/plain": [
       "       rel_error          y     y_diff\n",
       "count  10.000000  10.000000  10.000000\n",
       "mean    0.087900  37.805800  37.805800\n",
       "std     1.139234  36.477887  36.477887\n",
       "min    -0.919000   5.996000   5.996000\n",
       "25%    -0.564000   9.880250   9.880250\n",
       "50%    -0.278000  18.431500  18.431500\n",
       "75%     0.275250  61.930500  61.930500\n",
       "max     2.990000  98.303000  98.303000"
      ]
     },
     "execution_count": 24,
     "metadata": {},
     "output_type": "execute_result"
    }
   ],
   "source": [
    "df_nelder1.describe()"
   ]
  },
  {
   "cell_type": "code",
   "execution_count": 25,
   "metadata": {},
   "outputs": [
    {
     "name": "stdout",
     "output_type": "stream",
     "text": [
      "\\begin{tabular}{lrlrr}\n",
      "\\toprule\n",
      "{} &  rel\\_error &                                                  x &       y &  y\\_diff \\\\\n",
      "\\midrule\n",
      "0 &      2.990 &  [-1.171, 1.157, 1.121, 1.112, 1.121, 1.197, 1.... &  25.067 &  25.067 \\\\\n",
      "1 &     -0.123 &  [0.02, -0.404, 0.681, 0.842, 0.924, 0.97, 0.99... &  66.975 &  66.975 \\\\\n",
      "2 &      0.775 &  [-0.965, 0.955, 0.902, 0.844, 0.705, 0.898, 1.... &  46.797 &  46.797 \\\\\n",
      "3 &     -0.201 &  [1.025, 1.016, 0.996, 1.009, 0.977, 0.747, 0.6... &  10.394 &  10.394 \\\\\n",
      "4 &     -0.632 &  [0.811, 0.664, 0.457, 0.2, 0.049, 0.008, 0.008... &   5.996 &   5.996 \\\\\n",
      "5 &     -0.704 &  [0.725, 0.517, 0.231, -0.152, 0.034, 0.013, 0.... &  11.796 &  11.796 \\\\\n",
      "6 &     -0.919 &  [-0.243, 0.051, 0.041, -0.025, 0.015, -0.01, 0... &   9.709 &   9.709 \\\\\n",
      "7 &     -0.355 &  [-0.978, 0.975, 0.944, 0.835, 0.685, 0.415, 0.... &   8.984 &   8.984 \\\\\n",
      "8 &      0.408 &  [0.5, 0.24, 0.039, 0.02, 0.004, -0.73, 1.044, ... &  94.037 &  94.037 \\\\\n",
      "9 &     -0.360 &  [0.576, 0.34, 0.122, 0.045, 0.014, -0.148, 0.0... &  98.303 &  98.303 \\\\\n",
      "\\bottomrule\n",
      "\\end{tabular}\n",
      "\n"
     ]
    }
   ],
   "source": [
    "print(df_nelder1.to_latex())"
   ]
  },
  {
   "cell_type": "code",
   "execution_count": 26,
   "metadata": {},
   "outputs": [
    {
     "data": {
      "text/html": [
       "<div>\n",
       "<style>\n",
       "    .dataframe thead tr:only-child th {\n",
       "        text-align: right;\n",
       "    }\n",
       "\n",
       "    .dataframe thead th {\n",
       "        text-align: left;\n",
       "    }\n",
       "\n",
       "    .dataframe tbody tr th {\n",
       "        vertical-align: top;\n",
       "    }\n",
       "</style>\n",
       "<table border=\"1\" class=\"dataframe\">\n",
       "  <thead>\n",
       "    <tr style=\"text-align: right;\">\n",
       "      <th></th>\n",
       "      <th>rel_error</th>\n",
       "      <th>y</th>\n",
       "      <th>y_diff</th>\n",
       "    </tr>\n",
       "  </thead>\n",
       "  <tbody>\n",
       "    <tr>\n",
       "      <th>count</th>\n",
       "      <td>10.000000</td>\n",
       "      <td>10.000000</td>\n",
       "      <td>10.000000</td>\n",
       "    </tr>\n",
       "    <tr>\n",
       "      <th>mean</th>\n",
       "      <td>0.087900</td>\n",
       "      <td>37.805800</td>\n",
       "      <td>37.805871</td>\n",
       "    </tr>\n",
       "    <tr>\n",
       "      <th>std</th>\n",
       "      <td>1.139234</td>\n",
       "      <td>36.477887</td>\n",
       "      <td>36.478053</td>\n",
       "    </tr>\n",
       "    <tr>\n",
       "      <th>min</th>\n",
       "      <td>-0.919000</td>\n",
       "      <td>5.996000</td>\n",
       "      <td>5.995642</td>\n",
       "    </tr>\n",
       "    <tr>\n",
       "      <th>25%</th>\n",
       "      <td>-0.564000</td>\n",
       "      <td>9.880250</td>\n",
       "      <td>9.880130</td>\n",
       "    </tr>\n",
       "    <tr>\n",
       "      <th>50%</th>\n",
       "      <td>-0.278000</td>\n",
       "      <td>18.431500</td>\n",
       "      <td>18.431330</td>\n",
       "    </tr>\n",
       "    <tr>\n",
       "      <th>75%</th>\n",
       "      <td>0.275250</td>\n",
       "      <td>61.930500</td>\n",
       "      <td>61.930889</td>\n",
       "    </tr>\n",
       "    <tr>\n",
       "      <th>max</th>\n",
       "      <td>2.990000</td>\n",
       "      <td>98.303000</td>\n",
       "      <td>98.303444</td>\n",
       "    </tr>\n",
       "  </tbody>\n",
       "</table>\n",
       "</div>"
      ],
      "text/plain": [
       "       rel_error          y     y_diff\n",
       "count  10.000000  10.000000  10.000000\n",
       "mean    0.087900  37.805800  37.805871\n",
       "std     1.139234  36.477887  36.478053\n",
       "min    -0.919000   5.996000   5.995642\n",
       "25%    -0.564000   9.880250   9.880130\n",
       "50%    -0.278000  18.431500  18.431330\n",
       "75%     0.275250  61.930500  61.930889\n",
       "max     2.990000  98.303000  98.303444"
      ]
     },
     "execution_count": 26,
     "metadata": {},
     "output_type": "execute_result"
    }
   ],
   "source": [
    "df_nelder2.describe()"
   ]
  },
  {
   "cell_type": "code",
   "execution_count": 27,
   "metadata": {},
   "outputs": [
    {
     "name": "stdout",
     "output_type": "stream",
     "text": [
      "\\begin{tabular}{lrlrr}\n",
      "\\toprule\n",
      "{} &  rel\\_error &                                                  x &       y &     y\\_diff \\\\\n",
      "\\midrule\n",
      "0 &      2.990 &  [-1.171, 1.157, 1.121, 1.112, 1.121, 1.197, 1.... &  25.067 &  25.066801 \\\\\n",
      "1 &     -0.123 &  [0.02, -0.404, 0.681, 0.842, 0.924, 0.97, 0.99... &  66.975 &  66.975452 \\\\\n",
      "2 &      0.775 &  [-0.965, 0.955, 0.902, 0.844, 0.705, 0.898, 1.... &  46.797 &  46.797200 \\\\\n",
      "3 &     -0.201 &  [1.025, 1.016, 0.996, 1.009, 0.977, 0.747, 0.6... &  10.394 &  10.394475 \\\\\n",
      "4 &     -0.632 &  [0.811, 0.664, 0.457, 0.2, 0.049, 0.008, 0.008... &   5.996 &   5.995642 \\\\\n",
      "5 &     -0.704 &  [0.725, 0.517, 0.231, -0.152, 0.034, 0.013, 0.... &  11.796 &  11.795859 \\\\\n",
      "6 &     -0.919 &  [-0.243, 0.051, 0.041, -0.025, 0.015, -0.01, 0... &   9.709 &   9.708681 \\\\\n",
      "7 &     -0.355 &  [-0.978, 0.975, 0.944, 0.835, 0.685, 0.415, 0.... &   8.984 &   8.984113 \\\\\n",
      "8 &      0.408 &  [0.5, 0.24, 0.039, 0.02, 0.004, -0.73, 1.044, ... &  94.037 &  94.037039 \\\\\n",
      "9 &     -0.360 &  [0.576, 0.34, 0.122, 0.045, 0.014, -0.148, 0.0... &  98.303 &  98.303444 \\\\\n",
      "\\bottomrule\n",
      "\\end{tabular}\n",
      "\n"
     ]
    }
   ],
   "source": [
    "print(df_nelder2.to_latex())"
   ]
  },
  {
   "cell_type": "code",
   "execution_count": 28,
   "metadata": {},
   "outputs": [
    {
     "data": {
      "text/html": [
       "<div>\n",
       "<style>\n",
       "    .dataframe thead tr:only-child th {\n",
       "        text-align: right;\n",
       "    }\n",
       "\n",
       "    .dataframe thead th {\n",
       "        text-align: left;\n",
       "    }\n",
       "\n",
       "    .dataframe tbody tr th {\n",
       "        vertical-align: top;\n",
       "    }\n",
       "</style>\n",
       "<table border=\"1\" class=\"dataframe\">\n",
       "  <thead>\n",
       "    <tr style=\"text-align: right;\">\n",
       "      <th></th>\n",
       "      <th>rel_error</th>\n",
       "      <th>y</th>\n",
       "      <th>y_diff</th>\n",
       "    </tr>\n",
       "  </thead>\n",
       "  <tbody>\n",
       "    <tr>\n",
       "      <th>count</th>\n",
       "      <td>10.000000</td>\n",
       "      <td>10.000000</td>\n",
       "      <td>10.000000</td>\n",
       "    </tr>\n",
       "    <tr>\n",
       "      <th>mean</th>\n",
       "      <td>-0.002400</td>\n",
       "      <td>2.392200</td>\n",
       "      <td>2.392200</td>\n",
       "    </tr>\n",
       "    <tr>\n",
       "      <th>std</th>\n",
       "      <td>0.002066</td>\n",
       "      <td>2.058878</td>\n",
       "      <td>2.058878</td>\n",
       "    </tr>\n",
       "    <tr>\n",
       "      <th>min</th>\n",
       "      <td>-0.004000</td>\n",
       "      <td>0.000000</td>\n",
       "      <td>0.000000</td>\n",
       "    </tr>\n",
       "    <tr>\n",
       "      <th>25%</th>\n",
       "      <td>-0.004000</td>\n",
       "      <td>0.000000</td>\n",
       "      <td>0.000000</td>\n",
       "    </tr>\n",
       "    <tr>\n",
       "      <th>50%</th>\n",
       "      <td>-0.004000</td>\n",
       "      <td>3.987000</td>\n",
       "      <td>3.987000</td>\n",
       "    </tr>\n",
       "    <tr>\n",
       "      <th>75%</th>\n",
       "      <td>-0.000000</td>\n",
       "      <td>3.987000</td>\n",
       "      <td>3.987000</td>\n",
       "    </tr>\n",
       "    <tr>\n",
       "      <th>max</th>\n",
       "      <td>-0.000000</td>\n",
       "      <td>3.987000</td>\n",
       "      <td>3.987000</td>\n",
       "    </tr>\n",
       "  </tbody>\n",
       "</table>\n",
       "</div>"
      ],
      "text/plain": [
       "       rel_error          y     y_diff\n",
       "count  10.000000  10.000000  10.000000\n",
       "mean   -0.002400   2.392200   2.392200\n",
       "std     0.002066   2.058878   2.058878\n",
       "min    -0.004000   0.000000   0.000000\n",
       "25%    -0.004000   0.000000   0.000000\n",
       "50%    -0.004000   3.987000   3.987000\n",
       "75%    -0.000000   3.987000   3.987000\n",
       "max    -0.000000   3.987000   3.987000"
      ]
     },
     "execution_count": 28,
     "metadata": {},
     "output_type": "execute_result"
    }
   ],
   "source": [
    "df_bfgs1.describe()"
   ]
  },
  {
   "cell_type": "code",
   "execution_count": 29,
   "metadata": {},
   "outputs": [
    {
     "name": "stdout",
     "output_type": "stream",
     "text": [
      "\\begin{tabular}{lrlrr}\n",
      "\\toprule\n",
      "{} &  rel\\_error &                                                  x &      y &  y\\_diff \\\\\n",
      "\\midrule\n",
      "0 &     -0.004 &  [-0.993, 0.997, 0.998, 0.999, 0.999, 0.999, 0.... &  3.987 &   3.987 \\\\\n",
      "1 &     -0.000 &  [1.0, 1.0, 1.0, 1.0, 1.0, 1.0, 1.0, 1.0, 1.0, ... &  0.000 &   0.000 \\\\\n",
      "2 &     -0.004 &  [-0.993, 0.997, 0.998, 0.999, 0.999, 0.999, 0.... &  3.987 &   3.987 \\\\\n",
      "3 &     -0.004 &  [-0.993, 0.997, 0.998, 0.999, 0.999, 0.999, 0.... &  3.987 &   3.987 \\\\\n",
      "4 &     -0.000 &  [1.0, 1.0, 1.0, 1.0, 1.0, 1.0, 1.0, 1.0, 1.0, ... &  0.000 &   0.000 \\\\\n",
      "5 &     -0.004 &  [-0.993, 0.997, 0.998, 0.999, 0.999, 0.999, 0.... &  3.987 &   3.987 \\\\\n",
      "6 &     -0.000 &  [1.0, 1.0, 1.0, 1.0, 1.0, 1.0, 1.0, 1.0, 1.0, ... &  0.000 &   0.000 \\\\\n",
      "7 &     -0.004 &  [-0.993, 0.997, 0.998, 0.999, 0.999, 0.999, 0.... &  3.987 &   3.987 \\\\\n",
      "8 &     -0.000 &  [1.0, 1.0, 1.0, 1.0, 1.0, 1.0, 1.0, 1.0, 1.0, ... &  0.000 &   0.000 \\\\\n",
      "9 &     -0.004 &  [-0.993, 0.997, 0.998, 0.999, 0.999, 0.999, 0.... &  3.987 &   3.987 \\\\\n",
      "\\bottomrule\n",
      "\\end{tabular}\n",
      "\n"
     ]
    }
   ],
   "source": [
    "print(df_bfgs1.to_latex())"
   ]
  },
  {
   "cell_type": "code",
   "execution_count": 30,
   "metadata": {},
   "outputs": [
    {
     "data": {
      "text/html": [
       "<div>\n",
       "<style>\n",
       "    .dataframe thead tr:only-child th {\n",
       "        text-align: right;\n",
       "    }\n",
       "\n",
       "    .dataframe thead th {\n",
       "        text-align: left;\n",
       "    }\n",
       "\n",
       "    .dataframe tbody tr th {\n",
       "        vertical-align: top;\n",
       "    }\n",
       "</style>\n",
       "<table border=\"1\" class=\"dataframe\">\n",
       "  <thead>\n",
       "    <tr style=\"text-align: right;\">\n",
       "      <th></th>\n",
       "      <th>rel_error</th>\n",
       "      <th>y</th>\n",
       "      <th>y_diff</th>\n",
       "    </tr>\n",
       "  </thead>\n",
       "  <tbody>\n",
       "    <tr>\n",
       "      <th>count</th>\n",
       "      <td>10.000000</td>\n",
       "      <td>10.000000</td>\n",
       "      <td>10.000000</td>\n",
       "    </tr>\n",
       "    <tr>\n",
       "      <th>mean</th>\n",
       "      <td>-0.002400</td>\n",
       "      <td>2.392200</td>\n",
       "      <td>2.392200</td>\n",
       "    </tr>\n",
       "    <tr>\n",
       "      <th>std</th>\n",
       "      <td>0.002066</td>\n",
       "      <td>2.058878</td>\n",
       "      <td>2.058878</td>\n",
       "    </tr>\n",
       "    <tr>\n",
       "      <th>min</th>\n",
       "      <td>-0.004000</td>\n",
       "      <td>0.000000</td>\n",
       "      <td>0.000000</td>\n",
       "    </tr>\n",
       "    <tr>\n",
       "      <th>25%</th>\n",
       "      <td>-0.004000</td>\n",
       "      <td>0.000000</td>\n",
       "      <td>0.000000</td>\n",
       "    </tr>\n",
       "    <tr>\n",
       "      <th>50%</th>\n",
       "      <td>-0.004000</td>\n",
       "      <td>3.987000</td>\n",
       "      <td>3.987000</td>\n",
       "    </tr>\n",
       "    <tr>\n",
       "      <th>75%</th>\n",
       "      <td>-0.000000</td>\n",
       "      <td>3.987000</td>\n",
       "      <td>3.987000</td>\n",
       "    </tr>\n",
       "    <tr>\n",
       "      <th>max</th>\n",
       "      <td>-0.000000</td>\n",
       "      <td>3.987000</td>\n",
       "      <td>3.987000</td>\n",
       "    </tr>\n",
       "  </tbody>\n",
       "</table>\n",
       "</div>"
      ],
      "text/plain": [
       "       rel_error          y     y_diff\n",
       "count  10.000000  10.000000  10.000000\n",
       "mean   -0.002400   2.392200   2.392200\n",
       "std     0.002066   2.058878   2.058878\n",
       "min    -0.004000   0.000000   0.000000\n",
       "25%    -0.004000   0.000000   0.000000\n",
       "50%    -0.004000   3.987000   3.987000\n",
       "75%    -0.000000   3.987000   3.987000\n",
       "max    -0.000000   3.987000   3.987000"
      ]
     },
     "execution_count": 30,
     "metadata": {},
     "output_type": "execute_result"
    }
   ],
   "source": [
    "df_bfgs1.describe()"
   ]
  },
  {
   "cell_type": "code",
   "execution_count": 31,
   "metadata": {},
   "outputs": [
    {
     "name": "stdout",
     "output_type": "stream",
     "text": [
      "\\begin{tabular}{lrlrr}\n",
      "\\toprule\n",
      "{} &  rel\\_error &                                                  x &      y &  y\\_diff \\\\\n",
      "\\midrule\n",
      "0 &     -0.004 &  [-0.993, 0.997, 0.998, 0.999, 0.999, 0.999, 0.... &  3.987 &   3.987 \\\\\n",
      "1 &     -0.000 &  [1.0, 1.0, 1.0, 1.0, 1.0, 1.0, 1.0, 1.0, 1.0, ... &  0.000 &   0.000 \\\\\n",
      "2 &     -0.004 &  [-0.993, 0.997, 0.998, 0.999, 0.999, 0.999, 0.... &  3.987 &   3.987 \\\\\n",
      "3 &     -0.004 &  [-0.993, 0.997, 0.998, 0.999, 0.999, 0.999, 0.... &  3.987 &   3.987 \\\\\n",
      "4 &     -0.000 &  [1.0, 1.0, 1.0, 1.0, 1.0, 1.0, 1.0, 1.0, 1.0, ... &  0.000 &   0.000 \\\\\n",
      "5 &     -0.004 &  [-0.993, 0.997, 0.998, 0.999, 0.999, 0.999, 0.... &  3.987 &   3.987 \\\\\n",
      "6 &     -0.000 &  [1.0, 1.0, 1.0, 1.0, 1.0, 1.0, 1.0, 1.0, 1.0, ... &  0.000 &   0.000 \\\\\n",
      "7 &     -0.004 &  [-0.993, 0.997, 0.998, 0.999, 0.999, 0.999, 0.... &  3.987 &   3.987 \\\\\n",
      "8 &     -0.000 &  [1.0, 1.0, 1.0, 1.0, 1.0, 1.0, 1.0, 1.0, 1.0, ... &  0.000 &   0.000 \\\\\n",
      "9 &     -0.004 &  [-0.993, 0.997, 0.998, 0.999, 0.999, 0.999, 0.... &  3.987 &   3.987 \\\\\n",
      "\\bottomrule\n",
      "\\end{tabular}\n",
      "\n"
     ]
    }
   ],
   "source": [
    "print(df_bfgs2.to_latex())"
   ]
  },
  {
   "cell_type": "code",
   "execution_count": null,
   "metadata": {
    "collapsed": true
   },
   "outputs": [],
   "source": []
  }
 ],
 "metadata": {
  "kernelspec": {
   "display_name": "Python 3",
   "language": "python",
   "name": "python3"
  },
  "language_info": {
   "codemirror_mode": {
    "name": "ipython",
    "version": 3
   },
   "file_extension": ".py",
   "mimetype": "text/x-python",
   "name": "python",
   "nbconvert_exporter": "python",
   "pygments_lexer": "ipython3",
   "version": "3.6.1"
  }
 },
 "nbformat": 4,
 "nbformat_minor": 2
}
